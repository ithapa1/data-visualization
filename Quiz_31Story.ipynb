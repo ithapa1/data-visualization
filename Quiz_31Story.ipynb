{
  "nbformat": 4,
  "nbformat_minor": 0,
  "metadata": {
    "colab": {
      "name": "Quiz-31Story.ipynb",
      "provenance": [],
      "authorship_tag": "ABX9TyPrcHR2Dei2iHKMj8aBRefg",
      "include_colab_link": true
    },
    "kernelspec": {
      "name": "python3",
      "display_name": "Python 3"
    },
    "language_info": {
      "name": "python"
    }
  },
  "cells": [
    {
      "cell_type": "markdown",
      "metadata": {
        "id": "view-in-github",
        "colab_type": "text"
      },
      "source": [
        "<a href=\"https://colab.research.google.com/github/ithapa1/data-visualization/blob/main/Quiz_31Story.ipynb\" target=\"_parent\"><img src=\"https://colab.research.google.com/assets/colab-badge.svg\" alt=\"Open In Colab\"/></a>"
      ]
    },
    {
      "cell_type": "markdown",
      "source": [
        "Here, I am going to talk about the T20 world cup of 2020, The 2020 ICC Men's T20 World Cup was the Seventh ICC Men's T20 World Cup tournament and next one is scheduled to be played in October and November 2022 in Australia. So, now onwards, I am going to work project in the T20 world cup which was shcheduled in 2020."
      ],
      "metadata": {
        "id": "WkgGd-mJ4qxh"
      }
    },
    {
      "cell_type": "markdown",
      "source": [
        "![](https://www.icccricketschedule.com/wp-content/uploads/2022/04/Umran-Malik-vs-RR-1.jpg)"
      ],
      "metadata": {
        "id": "KTnyeWsG9Atv"
      }
    }
  ]
}