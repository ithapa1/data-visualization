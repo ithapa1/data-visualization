{
  "nbformat": 4,
  "nbformat_minor": 0,
  "metadata": {
    "colab": {
      "name": "Recreating the Master.ipynb",
      "provenance": [],
      "authorship_tag": "ABX9TyO88HGO0H7rHlKRwkPNJA5f",
      "include_colab_link": true
    },
    "kernelspec": {
      "name": "python3",
      "display_name": "Python 3"
    },
    "language_info": {
      "name": "python"
    }
  },
  "cells": [
    {
      "cell_type": "markdown",
      "metadata": {
        "id": "view-in-github",
        "colab_type": "text"
      },
      "source": [
        "<a href=\"https://colab.research.google.com/github/ithapa1/data-visualization/blob/main/Recreating_the_Master.ipynb\" target=\"_parent\"><img src=\"https://colab.research.google.com/assets/colab-badge.svg\" alt=\"Open In Colab\"/></a>"
      ]
    },
    {
      "cell_type": "markdown",
      "source": [
        ""
      ],
      "metadata": {
        "id": "URm_nifiQEMR"
      }
    },
    {
      "cell_type": "markdown",
      "source": [
        "# **Recreating the Master**\n",
        "Indra Thapa\n",
        "\n",
        "East Central University\n",
        "\n",
        "spring 2022\n",
        "\n",
        "CPMSA 4213\n",
        "\n",
        "Here, I am going to take a different topic than previous one because it seems pretty easy to me and data can be found so easily. So, I would like to pick a topic about; the wealthiest person in the world from 2000 to 2021 by forbes."
      ],
      "metadata": {
        "id": "eEve00PCYcVq"
      }
    },
    {
      "cell_type": "markdown",
      "source": [
        "![The most 10 weathiest person in the world](https://www.aei.org/wp-content/uploads/2021/03/Worlds-Top-Ten-Billionaires-2021.png)"
      ],
      "metadata": {
        "id": "pLr1jLonZ-Mm"
      }
    },
    {
      "cell_type": "markdown",
      "source": [
        "Here, I found these picture of visualization from 2019. So, I would like to create a another great visualization with the same master piece. To do so, I need a same information of the billionaire. so, I would like to get a information from the forbes official page.![Forbes](https://www.cnn.com/2020/04/07/business/forbes-billionaire-list-2020/index.html)"
      ],
      "metadata": {
        "id": "ph96OZ08d5Hf"
      }
    },
    {
      "cell_type": "markdown",
      "source": [
        "![](https://i.ytimg.com/vi/rWGAfjQo9J8/maxresdefault.jpg)"
      ],
      "metadata": {
        "id": "7KZ81zglcDVP"
      }
    },
    {
      "cell_type": "markdown",
      "source": [
        "The above graph looks really cool and its a also a another master piece of the visualization. So, here Jeff Bezos is leading billionaires in 2020 followed by Bill Gates. Lets see current richest person in the world. "
      ],
      "metadata": {
        "id": "QSwmYto8hNP5"
      }
    },
    {
      "cell_type": "markdown",
      "source": [
        "![](https://cdn.statcdn.com/Infographic/images/normal/22068.jpeg)"
      ],
      "metadata": {
        "id": "K26sypiIcMgB"
      }
    },
    {
      "cell_type": "markdown",
      "source": [
        "The above graph is the percentage of the profit that was made during the pandemic by the world richest person. I would say, this can't be great visualization but it just calculated the percentage of profit that was made during the pandemic.\n",
        "\n",
        "Now, I am going to use the second graph which looks great visualization to me.so lets go..\n"
      ],
      "metadata": {
        "id": "mjeFFC89dFqf"
      }
    },
    {
      "cell_type": "code",
      "source": [
        "import requests\n",
        "import pandas as pa\n",
        "import seaborn as sns\n",
        "from bs4 import BeautifulSoup\n",
        "import numpy as np\n",
        "import matplotlib.image as mpimg\n",
        "import matplotlib.pyplot as plt\n"
      ],
      "metadata": {
        "id": "IR4BVxC0_GC4"
      },
      "execution_count": 24,
      "outputs": []
    },
    {
      "cell_type": "code",
      "source": [
        "r = requests.get('https://en.wikipedia.org/wiki/The_World%27s_Billionaires')\n",
        "html_contents = r.text\n",
        "html_soup = BeautifulSoup(html_contents,\"lxml\")\n",
        "len(html_soup.find_all('table'))"
      ],
      "metadata": {
        "colab": {
          "base_uri": "https://localhost:8080/"
        },
        "id": "CXGYm00g_Qas",
        "outputId": "db01eee9-ceb0-4c49-be5c-a439a4c1cc13"
      },
      "execution_count": 2,
      "outputs": [
        {
          "output_type": "execute_result",
          "data": {
            "text/plain": [
              "46"
            ]
          },
          "metadata": {},
          "execution_count": 2
        }
      ]
    },
    {
      "cell_type": "code",
      "source": [
        "html_soup.title"
      ],
      "metadata": {
        "colab": {
          "base_uri": "https://localhost:8080/"
        },
        "id": "ck_X0C4H_jVn",
        "outputId": "9707a078-7e73-4485-f894-11c6512c8c06"
      },
      "execution_count": 3,
      "outputs": [
        {
          "output_type": "execute_result",
          "data": {
            "text/plain": [
              "<title>The World's Billionaires - Wikipedia</title>"
            ]
          },
          "metadata": {},
          "execution_count": 3
        }
      ]
    },
    {
      "cell_type": "code",
      "source": [
        "tables = html_soup.find_all('table')\n",
        "\n",
        "df = pa.read_html(str(tables))[5]\n",
        "df"
      ],
      "metadata": {
        "colab": {
          "base_uri": "https://localhost:8080/",
          "height": 363
        },
        "id": "L5jZs9JM_m97",
        "outputId": "d3b2eb84-074b-448b-99cc-c98a8705d314"
      },
      "execution_count": 22,
      "outputs": [
        {
          "output_type": "execute_result",
          "data": {
            "text/plain": [
              "   No.               Name Net worth (USD)  Age    Nationality  \\\n",
              "0    1         Jeff Bezos    $131 billion   55  United States   \n",
              "1    2         Bill Gates   $96.5 billion   63  United States   \n",
              "2    3     Warren Buffett   $82.5 billion   88  United States   \n",
              "3    4    Bernard Arnault     $76 billion   70         France   \n",
              "4    5        Carlos Slim     $64 billion   79         Mexico   \n",
              "5    6     Amancio Ortega   $62.7 billion   82          Spain   \n",
              "6    7      Larry Ellison   $62.5 billion   74  United States   \n",
              "7    8    Mark Zuckerberg   $62.3 billion   34  United States   \n",
              "8    9  Michael Bloomberg   $55.5 billion   77  United States   \n",
              "9   10         Larry Page   $50.8 billion   45  United States   \n",
              "\n",
              "          Source(s) of wealth  \n",
              "0                      Amazon  \n",
              "1                   Microsoft  \n",
              "2          Berkshire Hathaway  \n",
              "3                        LVMH  \n",
              "4  América Móvil, Grupo Carso  \n",
              "5               Inditex, Zara  \n",
              "6          Oracle Corporation  \n",
              "7              Facebook, Inc.  \n",
              "8              Bloomberg L.P.  \n",
              "9               Alphabet Inc.  "
            ],
            "text/html": [
              "\n",
              "  <div id=\"df-f6ef7c7d-45fa-495e-b670-b6976012dbb9\">\n",
              "    <div class=\"colab-df-container\">\n",
              "      <div>\n",
              "<style scoped>\n",
              "    .dataframe tbody tr th:only-of-type {\n",
              "        vertical-align: middle;\n",
              "    }\n",
              "\n",
              "    .dataframe tbody tr th {\n",
              "        vertical-align: top;\n",
              "    }\n",
              "\n",
              "    .dataframe thead th {\n",
              "        text-align: right;\n",
              "    }\n",
              "</style>\n",
              "<table border=\"1\" class=\"dataframe\">\n",
              "  <thead>\n",
              "    <tr style=\"text-align: right;\">\n",
              "      <th></th>\n",
              "      <th>No.</th>\n",
              "      <th>Name</th>\n",
              "      <th>Net worth (USD)</th>\n",
              "      <th>Age</th>\n",
              "      <th>Nationality</th>\n",
              "      <th>Source(s) of wealth</th>\n",
              "    </tr>\n",
              "  </thead>\n",
              "  <tbody>\n",
              "    <tr>\n",
              "      <th>0</th>\n",
              "      <td>1</td>\n",
              "      <td>Jeff Bezos</td>\n",
              "      <td>$131 billion</td>\n",
              "      <td>55</td>\n",
              "      <td>United States</td>\n",
              "      <td>Amazon</td>\n",
              "    </tr>\n",
              "    <tr>\n",
              "      <th>1</th>\n",
              "      <td>2</td>\n",
              "      <td>Bill Gates</td>\n",
              "      <td>$96.5 billion</td>\n",
              "      <td>63</td>\n",
              "      <td>United States</td>\n",
              "      <td>Microsoft</td>\n",
              "    </tr>\n",
              "    <tr>\n",
              "      <th>2</th>\n",
              "      <td>3</td>\n",
              "      <td>Warren Buffett</td>\n",
              "      <td>$82.5 billion</td>\n",
              "      <td>88</td>\n",
              "      <td>United States</td>\n",
              "      <td>Berkshire Hathaway</td>\n",
              "    </tr>\n",
              "    <tr>\n",
              "      <th>3</th>\n",
              "      <td>4</td>\n",
              "      <td>Bernard Arnault</td>\n",
              "      <td>$76 billion</td>\n",
              "      <td>70</td>\n",
              "      <td>France</td>\n",
              "      <td>LVMH</td>\n",
              "    </tr>\n",
              "    <tr>\n",
              "      <th>4</th>\n",
              "      <td>5</td>\n",
              "      <td>Carlos Slim</td>\n",
              "      <td>$64 billion</td>\n",
              "      <td>79</td>\n",
              "      <td>Mexico</td>\n",
              "      <td>América Móvil, Grupo Carso</td>\n",
              "    </tr>\n",
              "    <tr>\n",
              "      <th>5</th>\n",
              "      <td>6</td>\n",
              "      <td>Amancio Ortega</td>\n",
              "      <td>$62.7 billion</td>\n",
              "      <td>82</td>\n",
              "      <td>Spain</td>\n",
              "      <td>Inditex, Zara</td>\n",
              "    </tr>\n",
              "    <tr>\n",
              "      <th>6</th>\n",
              "      <td>7</td>\n",
              "      <td>Larry Ellison</td>\n",
              "      <td>$62.5 billion</td>\n",
              "      <td>74</td>\n",
              "      <td>United States</td>\n",
              "      <td>Oracle Corporation</td>\n",
              "    </tr>\n",
              "    <tr>\n",
              "      <th>7</th>\n",
              "      <td>8</td>\n",
              "      <td>Mark Zuckerberg</td>\n",
              "      <td>$62.3 billion</td>\n",
              "      <td>34</td>\n",
              "      <td>United States</td>\n",
              "      <td>Facebook, Inc.</td>\n",
              "    </tr>\n",
              "    <tr>\n",
              "      <th>8</th>\n",
              "      <td>9</td>\n",
              "      <td>Michael Bloomberg</td>\n",
              "      <td>$55.5 billion</td>\n",
              "      <td>77</td>\n",
              "      <td>United States</td>\n",
              "      <td>Bloomberg L.P.</td>\n",
              "    </tr>\n",
              "    <tr>\n",
              "      <th>9</th>\n",
              "      <td>10</td>\n",
              "      <td>Larry Page</td>\n",
              "      <td>$50.8 billion</td>\n",
              "      <td>45</td>\n",
              "      <td>United States</td>\n",
              "      <td>Alphabet Inc.</td>\n",
              "    </tr>\n",
              "  </tbody>\n",
              "</table>\n",
              "</div>\n",
              "      <button class=\"colab-df-convert\" onclick=\"convertToInteractive('df-f6ef7c7d-45fa-495e-b670-b6976012dbb9')\"\n",
              "              title=\"Convert this dataframe to an interactive table.\"\n",
              "              style=\"display:none;\">\n",
              "        \n",
              "  <svg xmlns=\"http://www.w3.org/2000/svg\" height=\"24px\"viewBox=\"0 0 24 24\"\n",
              "       width=\"24px\">\n",
              "    <path d=\"M0 0h24v24H0V0z\" fill=\"none\"/>\n",
              "    <path d=\"M18.56 5.44l.94 2.06.94-2.06 2.06-.94-2.06-.94-.94-2.06-.94 2.06-2.06.94zm-11 1L8.5 8.5l.94-2.06 2.06-.94-2.06-.94L8.5 2.5l-.94 2.06-2.06.94zm10 10l.94 2.06.94-2.06 2.06-.94-2.06-.94-.94-2.06-.94 2.06-2.06.94z\"/><path d=\"M17.41 7.96l-1.37-1.37c-.4-.4-.92-.59-1.43-.59-.52 0-1.04.2-1.43.59L10.3 9.45l-7.72 7.72c-.78.78-.78 2.05 0 2.83L4 21.41c.39.39.9.59 1.41.59.51 0 1.02-.2 1.41-.59l7.78-7.78 2.81-2.81c.8-.78.8-2.07 0-2.86zM5.41 20L4 18.59l7.72-7.72 1.47 1.35L5.41 20z\"/>\n",
              "  </svg>\n",
              "      </button>\n",
              "      \n",
              "  <style>\n",
              "    .colab-df-container {\n",
              "      display:flex;\n",
              "      flex-wrap:wrap;\n",
              "      gap: 12px;\n",
              "    }\n",
              "\n",
              "    .colab-df-convert {\n",
              "      background-color: #E8F0FE;\n",
              "      border: none;\n",
              "      border-radius: 50%;\n",
              "      cursor: pointer;\n",
              "      display: none;\n",
              "      fill: #1967D2;\n",
              "      height: 32px;\n",
              "      padding: 0 0 0 0;\n",
              "      width: 32px;\n",
              "    }\n",
              "\n",
              "    .colab-df-convert:hover {\n",
              "      background-color: #E2EBFA;\n",
              "      box-shadow: 0px 1px 2px rgba(60, 64, 67, 0.3), 0px 1px 3px 1px rgba(60, 64, 67, 0.15);\n",
              "      fill: #174EA6;\n",
              "    }\n",
              "\n",
              "    [theme=dark] .colab-df-convert {\n",
              "      background-color: #3B4455;\n",
              "      fill: #D2E3FC;\n",
              "    }\n",
              "\n",
              "    [theme=dark] .colab-df-convert:hover {\n",
              "      background-color: #434B5C;\n",
              "      box-shadow: 0px 1px 3px 1px rgba(0, 0, 0, 0.15);\n",
              "      filter: drop-shadow(0px 1px 2px rgba(0, 0, 0, 0.3));\n",
              "      fill: #FFFFFF;\n",
              "    }\n",
              "  </style>\n",
              "\n",
              "      <script>\n",
              "        const buttonEl =\n",
              "          document.querySelector('#df-f6ef7c7d-45fa-495e-b670-b6976012dbb9 button.colab-df-convert');\n",
              "        buttonEl.style.display =\n",
              "          google.colab.kernel.accessAllowed ? 'block' : 'none';\n",
              "\n",
              "        async function convertToInteractive(key) {\n",
              "          const element = document.querySelector('#df-f6ef7c7d-45fa-495e-b670-b6976012dbb9');\n",
              "          const dataTable =\n",
              "            await google.colab.kernel.invokeFunction('convertToInteractive',\n",
              "                                                     [key], {});\n",
              "          if (!dataTable) return;\n",
              "\n",
              "          const docLinkHtml = 'Like what you see? Visit the ' +\n",
              "            '<a target=\"_blank\" href=https://colab.research.google.com/notebooks/data_table.ipynb>data table notebook</a>'\n",
              "            + ' to learn more about interactive tables.';\n",
              "          element.innerHTML = '';\n",
              "          dataTable['output_type'] = 'display_data';\n",
              "          await google.colab.output.renderOutput(dataTable, element);\n",
              "          const docLink = document.createElement('div');\n",
              "          docLink.innerHTML = docLinkHtml;\n",
              "          element.appendChild(docLink);\n",
              "        }\n",
              "      </script>\n",
              "    </div>\n",
              "  </div>\n",
              "  "
            ]
          },
          "metadata": {},
          "execution_count": 22
        }
      ]
    },
    {
      "cell_type": "code",
      "source": [
        ""
      ],
      "metadata": {
        "id": "MdzHETNjKdAR"
      },
      "execution_count": null,
      "outputs": []
    },
    {
      "cell_type": "markdown",
      "source": [
        "Now, the above table looks great but I would like to clean it more by recreating the master. To do so, I would like to use the link given by the professor from where I can get idea to recreating the data. [[link](https://github.com/nurfnick/Data_Viz/blob/main/RecreatingMasters.ipynb)"
      ],
      "metadata": {
        "id": "M-1gTorTAFFz"
      }
    },
    {
      "cell_type": "code",
      "source": [
        "ax = sns.barplot(data = df, x= 'Name', y= \"Age\", hue_order= None )\n",
        "ax.set_xticklabels(ax.get_xticklabels(),rotation = 90)\n",
        "ax.set_title('TOP 10 RICHEST PERSON IN THE WORLD 2021')\n",
        "plt.show()"
      ],
      "metadata": {
        "colab": {
          "base_uri": "https://localhost:8080/",
          "height": 381
        },
        "id": "6tC2_d9sAotC",
        "outputId": "c2b94fcc-1561-41c0-ac6a-0defb15010f7"
      },
      "execution_count": 45,
      "outputs": [
        {
          "output_type": "display_data",
          "data": {
            "text/plain": [
              "<Figure size 432x288 with 1 Axes>"
            ],
            "image/png": "[encoded data removed]"
          },
          "metadata": {
            "needs_background": "light"
          }
        }
      ]
    },
    {
      "cell_type": "markdown",
      "source": [
        ""
      ],
      "metadata": {
        "id": "vAMVeEdYQAE2"
      }
    },
    {
      "cell_type": "markdown",
      "source": [
        "Here, in the above graph I was trying to do it by Name and net worth but somehow it didn't work but it works by age though instead of Net worth. I hope this will work."
      ],
      "metadata": {
        "id": "OBG_EahjN8M0"
      }
    }
  ]
}