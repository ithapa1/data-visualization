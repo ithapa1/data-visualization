{
  "nbformat": 4,
  "nbformat_minor": 0,
  "metadata": {
    "colab": {
      "name": "Project-Proposal.ipynb",
      "provenance": [],
      "authorship_tag": "ABX9TyOfxA8uuj7Ml4nBn0P+TYY6",
      "include_colab_link": true
    },
    "kernelspec": {
      "name": "python3",
      "display_name": "Python 3"
    },
    "language_info": {
      "name": "python"
    }
  },
  "cells": [
    {
      "cell_type": "markdown",
      "metadata": {
        "id": "view-in-github",
        "colab_type": "text"
      },
      "source": [
        "<a href=\"https://colab.research.google.com/github/ithapa1/data-visualization/blob/main/recent_Visualization.ipynb\" target=\"_parent\"><img src=\"https://colab.research.google.com/assets/colab-badge.svg\" alt=\"Open In Colab\"/></a>"
      ]
    },
    {
      "cell_type": "markdown",
      "source": [
        "## **Project Proposal**\n",
        "# **BEST CRICKETER OF ALL THE TIME**\n",
        "\n",
        "Indra Thapa\n",
        "\n",
        "East Central University\n",
        "\n",
        "spring 2022\n",
        "\n",
        "CPMSA 4213\n",
        "\n",
        "Professor: Dr. Nicholas Jacob Abstract: The following link is the T20 World Cup and the list of Best Cricketer among the participated country of all the time.[link](https://en.wikipedia.org/wiki/Wisden_Leading_Cricketer_in_the_World)."
      ],
      "metadata": {
        "id": "tafCG8iznClh"
      }
    },
    {
      "cell_type": "markdown",
      "source": [
        "# Introduction: \n",
        "\n",
        "As we all know that the important of sports in the world, which connects all the countries as one and maintain a social harmoney to each other. Similarly, it helps to maintain a respect of the people and good health to everyone and inspires a healthy lifestyle. there is no doubt that the sport also helps to grow up the life of the best player and helps to maintain a happy and properous life.Besides that, best team and best player can be renown by all over the world. I took this topic to get a good visualization of the best player all time over the world (i.e. participated country).\n",
        "\n",
        "Here, I am going to take a data to get a visualization of the Highest paid cricketer in the world. So, I would like to show the [link](https://sportsbrowser.net/greatest-cricketers-of-all-time/)"
      ],
      "metadata": {
        "id": "8Bdwv9ppnNJ3"
      }
    },
    {
      "cell_type": "markdown",
      "source": [
        "# **SPORTS BROWSER AND WHO ARE THEY?**\n",
        "\n",
        "As we all know that sports broswer have all the records of the sports. It is also a great source of sports data. besides that, SportsBrowser.net is an online sports portal where you can keep up with all the newest sports news. You can find anything here, from the most recent sports news to extensive stats on various sports and players. This website also provides you with the most up-to-date reviews and buyer's guides for all new sporting goods, equipment, accessories, and gaming equipment.\n",
        "\n",
        "1.   List item\n",
        "2.   List item\n",
        "\n"
      ],
      "metadata": {
        "id": "Qe8jVUg8nR4F"
      }
    },
    {
      "cell_type": "markdown",
      "source": [
        "![T20 Cricket world Cup](https://external-content.duckduckgo.com/iu/?u=https%3A%2F%2Fmiro.medium.com%2Fmax%2F1200%2F1*EyntW6SwEr-voghuOa4hHQ.png&f=1&nofb=1)"
      ],
      "metadata": {
        "id": "orjQ9JBNpkPr"
      }
    },
    {
      "cell_type": "code",
      "source": [
        "import requests\n",
        "import pandas as pa\n",
        "import re\n",
        "import pandas as pd\n",
        "import matplotlib.pyplot as plt\n",
        "import seaborn as sns\n",
        "import numpy as np\n",
        "from bs4 import BeautifulSoup\n",
        "r = requests.get(\"https://en.wikipedia.org/wiki/Wisden_Leading_Cricketer_in_the_World\")\n",
        "html_contents = r.text\n",
        "html_soup = BeautifulSoup(html_contents,\"lxml\")"
      ],
      "metadata": {
        "id": "Zez_9zbJekLy"
      },
      "execution_count": 79,
      "outputs": []
    },
    {
      "cell_type": "code",
      "source": [
        "tables = html_soup.find_all('table')\n",
        "df = pd.read_html(str(tables))\n",
        "df"
      ],
      "metadata": {
        "id": "dce8rNN8e2cV",
        "outputId": "6b2bb06c-d99d-43bd-cd11-bee7966f9e02",
        "colab": {
          "base_uri": "https://localhost:8080/"
        }
      },
      "execution_count": 109,
      "outputs": [
        {
          "output_type": "execute_result",
          "data": {
            "text/plain": [
              "[    Year             Player[6]       Country\n",
              " 0   2003         Ricky Ponting     Australia\n",
              " 1   2004           Shane Warne     Australia\n",
              " 2   2005       Andrew Flintoff       England\n",
              " 3   2006  Muttiah Muralitharan     Sri Lanka\n",
              " 4   2007        Jacques Kallis  South Africa\n",
              " 5   2008       Virender Sehwag         India\n",
              " 6   2009       Virender Sehwag         India\n",
              " 7   2010      Sachin Tendulkar         India\n",
              " 8   2011      Kumar Sangakkara     Sri Lanka\n",
              " 9   2012        Michael Clarke     Australia\n",
              " 10  2013            Dale Steyn  South Africa\n",
              " 11  2014      Kumar Sangakkara     Sri Lanka\n",
              " 12  2015       Kane Williamson   New Zealand\n",
              " 13  2016           Virat Kohli         India\n",
              " 14  2017           Virat Kohli         India\n",
              " 15  2018           Virat Kohli         India\n",
              " 16  2019            Ben Stokes       England\n",
              " 17  2020            Ben Stokes       England\n",
              " 18  2021              Joe Root       England,\n",
              "     Year             Player[6]    Country\n",
              " 0   1900    K. S. Ranjitsinhji    England\n",
              " 1   1901             C. B. Fry    England\n",
              " 2   1902        Victor Trumper  Australia\n",
              " 3   1903             C. B. Fry    England\n",
              " 4   1904     Bernard Bosanquet    England\n",
              " ..   ...                   ...        ...\n",
              " 90  1998      Sachin Tendulkar      India\n",
              " 91  1999           Steve Waugh  Australia\n",
              " 92  2000  Muttiah Muralitharan  Sri Lanka\n",
              " 93  2001         Glenn McGrath  Australia\n",
              " 94  2002        Matthew Hayden  Australia\n",
              " \n",
              " [95 rows x 3 columns],\n",
              "                   Player  Awards  \\\n",
              " 0            Don Bradman      10   \n",
              " 1        Garfield Sobers       8   \n",
              " 2             Jack Hobbs       3   \n",
              " 3            Virat Kohli       3   \n",
              " 4           Viv Richards       3   \n",
              " 5            Shane Warne       3   \n",
              " 6          Sydney Barnes       2   \n",
              " 7              C. B. Fry       2   \n",
              " 8             Len Hutton       2   \n",
              " 9             Brian Lara       2   \n",
              " 10         Dennis Lillee       2   \n",
              " 11     Charlie Macartney       2   \n",
              " 12      Malcolm Marshall       2   \n",
              " 13  Muttiah Muralitharan       2   \n",
              " 14        Graeme Pollock       2   \n",
              " 15      Kumar Sangakkara       2   \n",
              " 16       Virender Sehwag       2   \n",
              " 17            Ben Stokes       2   \n",
              " 18      Sachin Tendulkar       2   \n",
              " 19        Victor Trumper       2   \n",
              " \n",
              "                                                 Years  \n",
              " 0   1930, 1931, 1932, 1934, 1936, 1937, 1938, 1939...  \n",
              " 1      1958, 1960, 1962, 1964, 1965, 1966, 1968, 1970  \n",
              " 2                                    1914, 1922, 1925  \n",
              " 3                                    2016, 2017, 2018  \n",
              " 4                                    1976, 1978, 1980  \n",
              " 5                                    1993, 1997, 2004  \n",
              " 6                                          1912, 1913  \n",
              " 7                                          1901, 1903  \n",
              " 8                                          1949, 1952  \n",
              " 9                                          1994, 1995  \n",
              " 10                                         1972, 1977  \n",
              " 11                                         1921, 1926  \n",
              " 12                                         1986, 1988  \n",
              " 13                                         2000, 2006  \n",
              " 14                                         1967, 1969  \n",
              " 15                                         2011, 2014  \n",
              " 16                                         2008, 2009  \n",
              " 17                                         2019, 2020  \n",
              " 18                                         1998, 2010  \n",
              " 19                                         1902, 1911  ,\n",
              "         Country  Awards\n",
              " 0     Australia      35\n",
              " 1       England      31\n",
              " 2   West Indies      20\n",
              " 3         India       8\n",
              " 4  South Africa       8\n",
              " 5     Sri Lanka       5\n",
              " 6   New Zealand       3\n",
              " 7      Pakistan       2,\n",
              "   .mw-parser-output .navbar{display:inline;font-size:88%;font-weight:normal}.mw-parser-output .navbar-collapse{float:left;text-align:left}.mw-parser-output .navbar-boxtext{word-spacing:0}.mw-parser-output .navbar ul{display:inline-block;white-space:nowrap;line-height:inherit}.mw-parser-output .navbar-brackets::before{margin-right:-0.125em;content:\"[ \"}.mw-parser-output .navbar-brackets::after{margin-left:-0.125em;content:\" ]\"}.mw-parser-output .navbar li{word-spacing:-0.125em}.mw-parser-output .navbar a>span,.mw-parser-output .navbar a>abbr{text-decoration:inherit}.mw-parser-output .navbar-mini abbr{font-variant:small-caps;border-bottom:none;text-decoration:none;cursor:inherit}.mw-parser-output .navbar-ct-full{font-size:114%;margin:0 7em}.mw-parser-output .navbar-ct-mini{font-size:114%;margin:0 4em}vteWisden awards  \\\n",
              " 0  Wisden Cricketers of the Year Wisden Leading W...                                                                                                                                                                                                                                                                                                                                                                                                                                                                                                                                                                                                                                                                                                                                                                                                         \n",
              " 1           Wisden Australia's Cricketer of the Year                                                                                                                                                                                                                                                                                                                                                                                                                                                                                                                                                                                                                                                                                                                                                                                                         \n",
              " 2  Wisden Cricketers of the Century Six Giants of...                                                                                                                                                                                                                                                                                                                                                                                                                                                                                                                                                                                                                                                                                                                                                                                                         \n",
              " \n",
              "   .mw-parser-output .navbar{display:inline;font-size:88%;font-weight:normal}.mw-parser-output .navbar-collapse{float:left;text-align:left}.mw-parser-output .navbar-boxtext{word-spacing:0}.mw-parser-output .navbar ul{display:inline-block;white-space:nowrap;line-height:inherit}.mw-parser-output .navbar-brackets::before{margin-right:-0.125em;content:\"[ \"}.mw-parser-output .navbar-brackets::after{margin-left:-0.125em;content:\" ]\"}.mw-parser-output .navbar li{word-spacing:-0.125em}.mw-parser-output .navbar a>span,.mw-parser-output .navbar a>abbr{text-decoration:inherit}.mw-parser-output .navbar-mini abbr{font-variant:small-caps;border-bottom:none;text-decoration:none;cursor:inherit}.mw-parser-output .navbar-ct-full{font-size:114%;margin:0 7em}.mw-parser-output .navbar-ct-mini{font-size:114%;margin:0 4em}vteWisden awards.1  \n",
              " 0  Wisden Cricketers of the Year Wisden Leading W...                                                                                                                                                                                                                                                                                                                                                                                                                                                                                                                                                                                                                                                                                                                                                                                                          \n",
              " 1           Wisden Australia's Cricketer of the Year                                                                                                                                                                                                                                                                                                                                                                                                                                                                                                                                                                                                                                                                                                                                                                                                          \n",
              " 2  Wisden Cricketers of the Century Six Giants of...                                                                                                                                                                                                                                                                                                                                                                                                                                                                                                                                                                                                                                                                                                                                                                                                          ]"
            ]
          },
          "metadata": {},
          "execution_count": 109
        }
      ]
    },
    {
      "cell_type": "code",
      "source": [
        "r = requests.get('https://en.wikipedia.org/wiki/Wisden_Leading_Cricketer_in_the_World')\n",
        "html_contents = r.text\n",
        "html_soup = BeautifulSoup(html_contents,\"lxml\")\n",
        "tables = html_soup.find_all('table',class_=\"wikitable\")\n",
        "df = pa.read_html(str(tables))[0]\n",
        "df.head(10)"
      ],
      "metadata": {
        "id": "3FvG1_60hAsy",
        "outputId": "b86fa92e-9098-4506-e637-1afa51471848",
        "colab": {
          "base_uri": "https://localhost:8080/",
          "height": 363
        }
      },
      "execution_count": 81,
      "outputs": [
        {
          "output_type": "execute_result",
          "data": {
            "text/plain": [
              "   Year             Player[6]       Country\n",
              "0  2003         Ricky Ponting     Australia\n",
              "1  2004           Shane Warne     Australia\n",
              "2  2005       Andrew Flintoff       England\n",
              "3  2006  Muttiah Muralitharan     Sri Lanka\n",
              "4  2007        Jacques Kallis  South Africa\n",
              "5  2008       Virender Sehwag         India\n",
              "6  2009       Virender Sehwag         India\n",
              "7  2010      Sachin Tendulkar         India\n",
              "8  2011      Kumar Sangakkara     Sri Lanka\n",
              "9  2012        Michael Clarke     Australia"
            ],
            "text/html": [
              "\n",
              "  <div id=\"df-68956816-d720-4eff-8f36-b8d6d4b8488d\">\n",
              "    <div class=\"colab-df-container\">\n",
              "      <div>\n",
              "<style scoped>\n",
              "    .dataframe tbody tr th:only-of-type {\n",
              "        vertical-align: middle;\n",
              "    }\n",
              "\n",
              "    .dataframe tbody tr th {\n",
              "        vertical-align: top;\n",
              "    }\n",
              "\n",
              "    .dataframe thead th {\n",
              "        text-align: right;\n",
              "    }\n",
              "</style>\n",
              "<table border=\"1\" class=\"dataframe\">\n",
              "  <thead>\n",
              "    <tr style=\"text-align: right;\">\n",
              "      <th></th>\n",
              "      <th>Year</th>\n",
              "      <th>Player[6]</th>\n",
              "      <th>Country</th>\n",
              "    </tr>\n",
              "  </thead>\n",
              "  <tbody>\n",
              "    <tr>\n",
              "      <th>0</th>\n",
              "      <td>2003</td>\n",
              "      <td>Ricky Ponting</td>\n",
              "      <td>Australia</td>\n",
              "    </tr>\n",
              "    <tr>\n",
              "      <th>1</th>\n",
              "      <td>2004</td>\n",
              "      <td>Shane Warne</td>\n",
              "      <td>Australia</td>\n",
              "    </tr>\n",
              "    <tr>\n",
              "      <th>2</th>\n",
              "      <td>2005</td>\n",
              "      <td>Andrew Flintoff</td>\n",
              "      <td>England</td>\n",
              "    </tr>\n",
              "    <tr>\n",
              "      <th>3</th>\n",
              "      <td>2006</td>\n",
              "      <td>Muttiah Muralitharan</td>\n",
              "      <td>Sri Lanka</td>\n",
              "    </tr>\n",
              "    <tr>\n",
              "      <th>4</th>\n",
              "      <td>2007</td>\n",
              "      <td>Jacques Kallis</td>\n",
              "      <td>South Africa</td>\n",
              "    </tr>\n",
              "    <tr>\n",
              "      <th>5</th>\n",
              "      <td>2008</td>\n",
              "      <td>Virender Sehwag</td>\n",
              "      <td>India</td>\n",
              "    </tr>\n",
              "    <tr>\n",
              "      <th>6</th>\n",
              "      <td>2009</td>\n",
              "      <td>Virender Sehwag</td>\n",
              "      <td>India</td>\n",
              "    </tr>\n",
              "    <tr>\n",
              "      <th>7</th>\n",
              "      <td>2010</td>\n",
              "      <td>Sachin Tendulkar</td>\n",
              "      <td>India</td>\n",
              "    </tr>\n",
              "    <tr>\n",
              "      <th>8</th>\n",
              "      <td>2011</td>\n",
              "      <td>Kumar Sangakkara</td>\n",
              "      <td>Sri Lanka</td>\n",
              "    </tr>\n",
              "    <tr>\n",
              "      <th>9</th>\n",
              "      <td>2012</td>\n",
              "      <td>Michael Clarke</td>\n",
              "      <td>Australia</td>\n",
              "    </tr>\n",
              "  </tbody>\n",
              "</table>\n",
              "</div>\n",
              "      <button class=\"colab-df-convert\" onclick=\"convertToInteractive('df-68956816-d720-4eff-8f36-b8d6d4b8488d')\"\n",
              "              title=\"Convert this dataframe to an interactive table.\"\n",
              "              style=\"display:none;\">\n",
              "        \n",
              "  <svg xmlns=\"http://www.w3.org/2000/svg\" height=\"24px\"viewBox=\"0 0 24 24\"\n",
              "       width=\"24px\">\n",
              "    <path d=\"M0 0h24v24H0V0z\" fill=\"none\"/>\n",
              "    <path d=\"M18.56 5.44l.94 2.06.94-2.06 2.06-.94-2.06-.94-.94-2.06-.94 2.06-2.06.94zm-11 1L8.5 8.5l.94-2.06 2.06-.94-2.06-.94L8.5 2.5l-.94 2.06-2.06.94zm10 10l.94 2.06.94-2.06 2.06-.94-2.06-.94-.94-2.06-.94 2.06-2.06.94z\"/><path d=\"M17.41 7.96l-1.37-1.37c-.4-.4-.92-.59-1.43-.59-.52 0-1.04.2-1.43.59L10.3 9.45l-7.72 7.72c-.78.78-.78 2.05 0 2.83L4 21.41c.39.39.9.59 1.41.59.51 0 1.02-.2 1.41-.59l7.78-7.78 2.81-2.81c.8-.78.8-2.07 0-2.86zM5.41 20L4 18.59l7.72-7.72 1.47 1.35L5.41 20z\"/>\n",
              "  </svg>\n",
              "      </button>\n",
              "      \n",
              "  <style>\n",
              "    .colab-df-container {\n",
              "      display:flex;\n",
              "      flex-wrap:wrap;\n",
              "      gap: 12px;\n",
              "    }\n",
              "\n",
              "    .colab-df-convert {\n",
              "      background-color: #E8F0FE;\n",
              "      border: none;\n",
              "      border-radius: 50%;\n",
              "      cursor: pointer;\n",
              "      display: none;\n",
              "      fill: #1967D2;\n",
              "      height: 32px;\n",
              "      padding: 0 0 0 0;\n",
              "      width: 32px;\n",
              "    }\n",
              "\n",
              "    .colab-df-convert:hover {\n",
              "      background-color: #E2EBFA;\n",
              "      box-shadow: 0px 1px 2px rgba(60, 64, 67, 0.3), 0px 1px 3px 1px rgba(60, 64, 67, 0.15);\n",
              "      fill: #174EA6;\n",
              "    }\n",
              "\n",
              "    [theme=dark] .colab-df-convert {\n",
              "      background-color: #3B4455;\n",
              "      fill: #D2E3FC;\n",
              "    }\n",
              "\n",
              "    [theme=dark] .colab-df-convert:hover {\n",
              "      background-color: #434B5C;\n",
              "      box-shadow: 0px 1px 3px 1px rgba(0, 0, 0, 0.15);\n",
              "      filter: drop-shadow(0px 1px 2px rgba(0, 0, 0, 0.3));\n",
              "      fill: #FFFFFF;\n",
              "    }\n",
              "  </style>\n",
              "\n",
              "      <script>\n",
              "        const buttonEl =\n",
              "          document.querySelector('#df-68956816-d720-4eff-8f36-b8d6d4b8488d button.colab-df-convert');\n",
              "        buttonEl.style.display =\n",
              "          google.colab.kernel.accessAllowed ? 'block' : 'none';\n",
              "\n",
              "        async function convertToInteractive(key) {\n",
              "          const element = document.querySelector('#df-68956816-d720-4eff-8f36-b8d6d4b8488d');\n",
              "          const dataTable =\n",
              "            await google.colab.kernel.invokeFunction('convertToInteractive',\n",
              "                                                     [key], {});\n",
              "          if (!dataTable) return;\n",
              "\n",
              "          const docLinkHtml = 'Like what you see? Visit the ' +\n",
              "            '<a target=\"_blank\" href=https://colab.research.google.com/notebooks/data_table.ipynb>data table notebook</a>'\n",
              "            + ' to learn more about interactive tables.';\n",
              "          element.innerHTML = '';\n",
              "          dataTable['output_type'] = 'display_data';\n",
              "          await google.colab.output.renderOutput(dataTable, element);\n",
              "          const docLink = document.createElement('div');\n",
              "          docLink.innerHTML = docLinkHtml;\n",
              "          element.appendChild(docLink);\n",
              "        }\n",
              "      </script>\n",
              "    </div>\n",
              "  </div>\n",
              "  "
            ]
          },
          "metadata": {},
          "execution_count": 81
        }
      ]
    },
    {
      "cell_type": "code",
      "source": [
        "df.info()"
      ],
      "metadata": {
        "id": "Mk6vLMmehB5e",
        "outputId": "1159f790-e695-4950-a0d7-875cc86c3b74",
        "colab": {
          "base_uri": "https://localhost:8080/"
        }
      },
      "execution_count": 82,
      "outputs": [
        {
          "output_type": "stream",
          "name": "stdout",
          "text": [
            "<class 'pandas.core.frame.DataFrame'>\n",
            "RangeIndex: 19 entries, 0 to 18\n",
            "Data columns (total 3 columns):\n",
            " #   Column     Non-Null Count  Dtype \n",
            "---  ------     --------------  ----- \n",
            " 0   Year       19 non-null     int64 \n",
            " 1   Player[6]  19 non-null     object\n",
            " 2   Country    19 non-null     object\n",
            "dtypes: int64(1), object(2)\n",
            "memory usage: 584.0+ bytes\n"
          ]
        }
      ]
    },
    {
      "cell_type": "code",
      "source": [
        "plt.rcParams[\"figure.figsize\"] = [10, 5]\n",
        "plt.rcParams[\"figure.autolayout\"] = True\n",
        "sns.set_style('ticks')\n",
        "ax = sns.barplot(data = df, x = 'Country', y= \"Year\", color= 'blue', ci= None, linewidth= 0.1)\n",
        "ax.set_xticklabels(ax.get_xticklabels(),rotation = 20)\n",
        "ax.set_title('world top most Cricketer in the basis of Country')\n",
        "sns.despine()\n",
        "plt.show()"
      ],
      "metadata": {
        "id": "8rUPfhpvmZ4D",
        "outputId": "80dbc91a-6273-482e-dbba-3aed91e81421",
        "colab": {
          "base_uri": "https://localhost:8080/",
          "height": 369
        }
      },
      "execution_count": 100,
      "outputs": [
        {
          "output_type": "display_data",
          "data": {
            "text/plain": [
              "<Figure size 720x360 with 1 Axes>"
            ],
            "image/png": "[encoded data removed]"
          },
          "metadata": {}
        }
      ]
    },
    {
      "cell_type": "markdown",
      "source": [
        "# **Why should both graphs be regarded as excellent visualizations?**\n",
        "\n",
        "They're both fantastic graphs. They are both excellent visualizations, in my opinion. Every piece of information is presented in a logical order. Graphically, it's fantastic. \"Excellence in statistical graphics is defined by the clarity, precision, and efficiency with which complicated ideas are communicated.\""
      ],
      "metadata": {
        "id": "VpyzO-3nqIon"
      }
    },
    {
      "cell_type": "markdown",
      "source": [
        "Both Graph and Chart have Graphical Excellent!\n",
        "\n",
        "Graphical perfection is essential, and making a graph critique is a fantastic way to do so. It also gives us a concept of what a graph should include and aids us in determining whether or not it is a good graph.\n",
        "\n"
      ],
      "metadata": {
        "id": "q2sZGyiFq4lb"
      }
    },
    {
      "cell_type": "markdown",
      "source": [
        "# **What are our thoughts on the graph's data presentation?**\n",
        "\n",
        "We can tell by looking at the data that it is a bar-graph. As we can see, the graph is descriptive, and we can determine what is going on in it without having to spend a lot of time looking it up. The graph condenses a lot of information into a single graph and presents it in a logical and efficient manner."
      ],
      "metadata": {
        "id": "jBWjMwCJrwl5"
      }
    },
    {
      "cell_type": "markdown",
      "source": [
        "![Country](https://image.slidesharecdn.com/mathsstatistics-141217060411-conversion-gate02/95/statistics-used-in-cricket-25-638.jpg?cb=1418796335)"
      ],
      "metadata": {
        "id": "uHqEfYdYr-Mh"
      }
    },
    {
      "cell_type": "markdown",
      "source": [
        "# **So, why am I interested in these two, you might wonder? What's the difference between them?**\n",
        "\n",
        "Despite the fact that there isn't much going on, every each detail matters. The data is presented in a different manner. One of the graphs shows the Team Name beside the National Flag of each country. Similarly, figures are used to represent the same data. Isn't it incredible how the same data can be expressed in so many different ways? Keep in mind that even the tiniest detail is significant. Someone who is unfamiliar with the data can tell who the best players on the graph are: V. Kohli, E. Robert, MS Dhoni, and so on."
      ],
      "metadata": {
        "id": "40vVEypWseZp"
      }
    },
    {
      "cell_type": "markdown",
      "source": [
        "# **What conclusions can we draw from it?**\n",
        "\n",
        "Now, the game of cricket has earned world-wide popularity. It has been popular in India too. Indian cricketers like Sunil Gavaskar, Kapil Dev and Tendulker have earned name and fame in world cricket. Still then, more and more Indian should come forward to learn this game"
      ],
      "metadata": {
        "id": "2Ym55uOBs6iz"
      }
    },
    {
      "cell_type": "markdown",
      "source": [
        "# **Is there a large number of concepts packed into a small amount of space?**\n",
        "\n",
        "\n",
        "The graph is the ideal size, and the method used is rational and ideal. It has all of the information that a good graph should have. Because the graph is nicely created in that amount of space, an audience can utilize it to create a tale. The graph is the ideal size for use in newsletters and articles, as it is neither too large nor too little. Even if the graph's size is raised, I don't think it will make a difference in the graph's appearance or information."
      ],
      "metadata": {
        "id": "CbOvXcoYtmRt"
      }
    },
    {
      "cell_type": "markdown",
      "source": [
        "# **Conclusion**\n",
        "\n",
        "Finally, I believe that visualizing a sports team's recent pattern is critical. It's a topic I've been paying attention to on a daily basis. In this assignment, I provided a total of three graphs, each of which depicts the same data in a different way. The ability to comprehend the same facts can be differentiated in several ways using the graph. Data visualization is critical, and using appropriate graphical brilliance makes it crystal evident."
      ],
      "metadata": {
        "id": "Lyp0ySgEuOPO"
      }
    },
    {
      "cell_type": "markdown",
      "source": [
        "# **Reference**\n",
        "\n",
        "https://sportsbrowser.net/greatest-cricketers-of-all-time/\n",
        "\n",
        "https://en.wikipedia.org/wiki/Wisden_Leading_Cricketer_in_the_World\n",
        "\n",
        "https://github.com/nurfnick/Data_Viz/blob/main/21_Graphical_Excellence.ipynb\n",
        "\n"
      ],
      "metadata": {
        "id": "smbu6p1zuo0m"
      }
    }
  ]
}