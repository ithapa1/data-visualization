{
  "nbformat": 4,
  "nbformat_minor": 0,
  "metadata": {
    "colab": {
      "name": "Untitled8.ipynb",
      "provenance": [],
      "authorship_tag": "ABX9TyMMw0Z96La3HI7VATuU3mhx",
      "include_colab_link": true
    },
    "kernelspec": {
      "name": "python3",
      "display_name": "Python 3"
    },
    "language_info": {
      "name": "python"
    }
  },
  "cells": [
    {
      "cell_type": "markdown",
      "metadata": {
        "id": "view-in-github",
        "colab_type": "text"
      },
      "source": [
        "<a href=\"https://colab.research.google.com/github/ithapa1/data-visualization/blob/main/web_scrapping_quiz8.ipynb\" target=\"_parent\"><img src=\"https://colab.research.google.com/assets/colab-badge.svg\" alt=\"Open In Colab\"/></a>"
      ]
    },
    {
      "cell_type": "markdown",
      "source": [
        "# **here, i am going to show you a different techniques of webScrapping using html **"
      ],
      "metadata": {
        "id": "7Y-wUODnf8FX"
      }
    },
    {
      "cell_type": "code",
      "source": [
        "import requests\n",
        "import pandas as pa\n",
        "from bs4 import BeautifulSoup"
      ],
      "metadata": {
        "id": "sMdC1XDPglrp"
      },
      "execution_count": 1,
      "outputs": []
    },
    {
      "cell_type": "markdown",
      "source": [
        "Among all the social media, I would like to use the facebook most but I do not know why?. its pretty hard to say but yeah its true though.\n"
      ],
      "metadata": {
        "id": "OfykFkcAgwds"
      }
    },
    {
      "cell_type": "markdown",
      "source": [
        "https://en.wikipedia.org/wiki/Facebook_Platform"
      ],
      "metadata": {
        "id": "jvl_S2Kphk5A"
      }
    },
    {
      "cell_type": "code",
      "source": [
        "r = requests.get('https://en.wikipedia.org/wiki/Facebook_Platform')\n",
        "html_contents = r.text\n",
        "html_soup = BeautifulSoup(html_contents,'lxml')\n",
        "#html_soup"
      ],
      "metadata": {
        "id": "rGEKcclwhmM_"
      },
      "execution_count": 24,
      "outputs": []
    },
    {
      "cell_type": "markdown",
      "source": [
        "now, lets examine the data from the website."
      ],
      "metadata": {
        "id": "OiVmUI9PiZpq"
      }
    },
    {
      "cell_type": "code",
      "source": [
        "html_soup.title"
      ],
      "metadata": {
        "colab": {
          "base_uri": "https://localhost:8080/"
        },
        "id": "Bryg3Z09igza",
        "outputId": "fda28a4c-5ede-4534-b8a0-b5f8120b5c4a"
      },
      "execution_count": 25,
      "outputs": [
        {
          "output_type": "execute_result",
          "data": {
            "text/plain": [
              "<title>Facebook Platform - Wikipedia</title>"
            ]
          },
          "metadata": {},
          "execution_count": 25
        }
      ]
    },
    {
      "cell_type": "markdown",
      "source": [
        "here, you can see my table syntax used in the html"
      ],
      "metadata": {
        "id": "HD1A0h2Biwaw"
      }
    },
    {
      "cell_type": "code",
      "source": [
        "html_soup.table"
      ],
      "metadata": {
        "colab": {
          "base_uri": "https://localhost:8080/"
        },
        "id": "SKHQ9Epqi9dd",
        "outputId": "a42ae5f6-4a9b-40ce-87d2-873c2d58fa2b"
      },
      "execution_count": 28,
      "outputs": [
        {
          "output_type": "execute_result",
          "data": {
            "text/plain": [
              "<table class=\"box-Expand_section plainlinks metadata ambox mbox-small-left ambox-content\" role=\"presentation\"><tbody><tr><td class=\"mbox-image\"><a class=\"image\" href=\"/wiki/File:Wiki_letter_w_cropped.svg\"><img alt=\"[icon]\" data-file-height=\"31\" data-file-width=\"44\" decoding=\"async\" height=\"14\" src=\"//upload.wikimedia.org/wikipedia/commons/thumb/1/1c/Wiki_letter_w_cropped.svg/20px-Wiki_letter_w_cropped.svg.png\" srcset=\"//upload.wikimedia.org/wikipedia/commons/thumb/1/1c/Wiki_letter_w_cropped.svg/30px-Wiki_letter_w_cropped.svg.png 1.5x, //upload.wikimedia.org/wikipedia/commons/thumb/1/1c/Wiki_letter_w_cropped.svg/40px-Wiki_letter_w_cropped.svg.png 2x\" width=\"20\"/></a></td><td class=\"mbox-text\"><div class=\"mbox-text-span\">This section <b>needs expansion</b>. You can help by <a class=\"external text\" href=\"https://en.wikipedia.org/w/index.php?title=Facebook_Platform&amp;action=edit&amp;section=\">adding to it</a>.  <span class=\"date-container\"><i>(<span class=\"date\">April 2013</span>)</i></span></div></td></tr></tbody></table>"
            ]
          },
          "metadata": {},
          "execution_count": 28
        }
      ]
    },
    {
      "cell_type": "code",
      "source": [
        "html_soup.table.a['href']"
      ],
      "metadata": {
        "colab": {
          "base_uri": "https://localhost:8080/",
          "height": 35
        },
        "id": "8n4kSDAHmBFl",
        "outputId": "4b78925a-a6ae-429e-f5f0-7461e4f37c64"
      },
      "execution_count": 29,
      "outputs": [
        {
          "output_type": "execute_result",
          "data": {
            "application/vnd.google.colaboratory.intrinsic+json": {
              "type": "string"
            },
            "text/plain": [
              "'/wiki/File:Wiki_letter_w_cropped.svg'"
            ]
          },
          "metadata": {},
          "execution_count": 29
        }
      ]
    },
    {
      "cell_type": "code",
      "source": [
        "html_soup.table.find_all('a')"
      ],
      "metadata": {
        "colab": {
          "base_uri": "https://localhost:8080/"
        },
        "id": "Z342t3qKm8Xn",
        "outputId": "67b3b295-5bef-424b-92ec-7689e461bfaa"
      },
      "execution_count": 30,
      "outputs": [
        {
          "output_type": "execute_result",
          "data": {
            "text/plain": [
              "[<a class=\"image\" href=\"/wiki/File:Wiki_letter_w_cropped.svg\"><img alt=\"[icon]\" data-file-height=\"31\" data-file-width=\"44\" decoding=\"async\" height=\"14\" src=\"//upload.wikimedia.org/wikipedia/commons/thumb/1/1c/Wiki_letter_w_cropped.svg/20px-Wiki_letter_w_cropped.svg.png\" srcset=\"//upload.wikimedia.org/wikipedia/commons/thumb/1/1c/Wiki_letter_w_cropped.svg/30px-Wiki_letter_w_cropped.svg.png 1.5x, //upload.wikimedia.org/wikipedia/commons/thumb/1/1c/Wiki_letter_w_cropped.svg/40px-Wiki_letter_w_cropped.svg.png 2x\" width=\"20\"/></a>,\n",
              " <a class=\"external text\" href=\"https://en.wikipedia.org/w/index.php?title=Facebook_Platform&amp;action=edit&amp;section=\">adding to it</a>]"
            ]
          },
          "metadata": {},
          "execution_count": 30
        }
      ]
    },
    {
      "cell_type": "markdown",
      "source": [
        "here, lets retrieve all the links and put them in a list."
      ],
      "metadata": {
        "id": "FPbFGZTLnDcY"
      }
    },
    {
      "cell_type": "code",
      "source": [
        "links = html_soup.table.find_all('a')\n",
        "listOfURLS = []\n",
        "\n",
        "for link in links:\n",
        "  listOfURLS.append('https://en.wikipedia.org' + link['href'])\n",
        "\n",
        "listOfURLS"
      ],
      "metadata": {
        "colab": {
          "base_uri": "https://localhost:8080/"
        },
        "id": "QwqYu6_XnLOU",
        "outputId": "7d24bc69-602f-4e88-db4b-15907830c56c"
      },
      "execution_count": 31,
      "outputs": [
        {
          "output_type": "execute_result",
          "data": {
            "text/plain": [
              "['https://en.wikipedia.org/wiki/File:Wiki_letter_w_cropped.svg',\n",
              " 'https://en.wikipedia.orghttps://en.wikipedia.org/w/index.php?title=Facebook_Platform&action=edit&section=']"
            ]
          },
          "metadata": {},
          "execution_count": 31
        }
      ]
    },
    {
      "cell_type": "markdown",
      "source": [
        "I hope, it might fulfills all the requirement as professor said. please correct me if i am wrong. thank you.."
      ],
      "metadata": {
        "id": "yT15t-HJogLv"
      }
    }
  ]
}