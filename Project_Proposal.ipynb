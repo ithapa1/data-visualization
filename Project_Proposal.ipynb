{
  "nbformat": 4,
  "nbformat_minor": 0,
  "metadata": {
    "colab": {
      "name": "Project-Proposal.ipynb",
      "provenance": [],
      "authorship_tag": "ABX9TyPpM4WI1Q2R9zv7DIRK//nH",
      "include_colab_link": true
    },
    "kernelspec": {
      "name": "python3",
      "display_name": "Python 3"
    },
    "language_info": {
      "name": "python"
    }
  },
  "cells": [
    {
      "cell_type": "markdown",
      "metadata": {
        "id": "view-in-github",
        "colab_type": "text"
      },
      "source": [
        "<a href=\"https://colab.research.google.com/github/ithapa1/data-visualization/blob/main/Project_Proposal.ipynb\" target=\"_parent\"><img src=\"https://colab.research.google.com/assets/colab-badge.svg\" alt=\"Open In Colab\"/></a>"
      ]
    },
    {
      "cell_type": "markdown",
      "source": [
        "## **Project Proposal**\n",
        "# **BEST CRICKETER OF ALL THE TIME**\n",
        "\n",
        "Indra Thapa\n",
        "\n",
        "East Central University\n",
        "\n",
        "spring 2022\n",
        "\n",
        "CPMSA 4213\n",
        "\n",
        "Professor: Dr. Nicholas Jacob Abstract: The following link is the T20 World Cup and the list of Best Cricketer among the participated country of all the time.[link](https://en.wikipedia.org/wiki/Wisden_Leading_Cricketer_in_the_World)."
      ],
      "metadata": {
        "id": "tafCG8iznClh"
      }
    },
    {
      "cell_type": "markdown",
      "source": [
        "# Introduction: \n",
        "\n",
        "As we all know that the important of sports in the world, which connects all the countries as one and maintain a social harmoney to each other. Similarly, it helps to maintain a respect of the people and good health to everyone and inspires a healthy lifestyle. there is no doubt that the sport also helps to grow up the life of the best player and helps to maintain a happy and properous life.Besides that, best team and best player can be renown by all over the world. I took this topic to get a good visualization of the best player all time over the world (i.e. participated country).\n",
        "\n",
        "Here, I am going to take a data to get a visualization of the Highest paid cricketer in the world. So, I would like to show the [link](https://sportsbrowser.net/greatest-cricketers-of-all-time/)"
      ],
      "metadata": {
        "id": "8Bdwv9ppnNJ3"
      }
    },
    {
      "cell_type": "markdown",
      "source": [
        "# **SPORTS BROWSER AND WHO ARE THEY?**\n",
        "\n",
        "As we all know that sports broswer have all the records of the sports. It is also a great source of sports data. besides that, SportsBrowser.net is an online sports portal where you can keep up with all the newest sports news. You can find anything here, from the most recent sports news to extensive stats on various sports and players. This website also provides you with the most up-to-date reviews and buyer's guides for all new sporting goods, equipment, accessories, and gaming equipment.\n",
        "\n",
        "1.   List item\n",
        "2.   List item\n",
        "\n"
      ],
      "metadata": {
        "id": "Qe8jVUg8nR4F"
      }
    },
    {
      "cell_type": "markdown",
      "source": [
        "![T20 Cricket world Cup](https://external-content.duckduckgo.com/iu/?u=https%3A%2F%2Fmiro.medium.com%2Fmax%2F1200%2F1*EyntW6SwEr-voghuOa4hHQ.png&f=1&nofb=1)"
      ],
      "metadata": {
        "id": "orjQ9JBNpkPr"
      }
    },
    {
      "cell_type": "markdown",
      "source": [
        "![](https://www.statisticstimes.com/sports/image/cricket-t20-world-cup-winners.jpg)"
      ],
      "metadata": {
        "id": "e7uff3bCp-2j"
      }
    },
    {
      "cell_type": "markdown",
      "source": [
        "# **Why should both graphs be regarded as excellent visualizations?**\n",
        "\n",
        "They're both fantastic graphs. They are both excellent visualizations, in my opinion. Every piece of information is presented in a logical order. Graphically, it's fantastic. \"Excellence in statistical graphics is defined by the clarity, precision, and efficiency with which complicated ideas are communicated.\""
      ],
      "metadata": {
        "id": "VpyzO-3nqIon"
      }
    },
    {
      "cell_type": "markdown",
      "source": [
        "Both Graph and Chart have Graphical Excellent!\n",
        "\n",
        "Graphical perfection is essential, and making a graph critique is a fantastic way to do so. It also gives us a concept of what a graph should include and aids us in determining whether or not it is a good graph.\n",
        "\n"
      ],
      "metadata": {
        "id": "q2sZGyiFq4lb"
      }
    },
    {
      "cell_type": "markdown",
      "source": [
        "# **What are our thoughts on the graph's data presentation?**\n",
        "\n",
        "We can tell by looking at the data that it is a bar-graph. As we can see, the graph is descriptive, and we can determine what is going on in it without having to spend a lot of time looking it up. The graph condenses a lot of information into a single graph and presents it in a logical and efficient manner."
      ],
      "metadata": {
        "id": "jBWjMwCJrwl5"
      }
    },
    {
      "cell_type": "markdown",
      "source": [
        "![Country](https://image.slidesharecdn.com/mathsstatistics-141217060411-conversion-gate02/95/statistics-used-in-cricket-25-638.jpg?cb=1418796335)"
      ],
      "metadata": {
        "id": "uHqEfYdYr-Mh"
      }
    },
    {
      "cell_type": "markdown",
      "source": [
        "# **So, why am I interested in these two, you might wonder? What's the difference between them?**\n",
        "\n",
        "Despite the fact that there isn't much going on, every each detail matters. The data is presented in a different manner. One of the graphs shows the Team Name beside the National Flag of each country. Similarly, figures are used to represent the same data. Isn't it incredible how the same data can be expressed in so many different ways? Keep in mind that even the tiniest detail is significant. Someone who is unfamiliar with the data can tell who the best players on the graph are: V. Kohli, E. Robert, MS Dhoni, and so on."
      ],
      "metadata": {
        "id": "40vVEypWseZp"
      }
    },
    {
      "cell_type": "markdown",
      "source": [
        "# **What conclusions can we draw from it?**\n",
        "\n",
        "Now, the game of cricket has earned world-wide popularity. It has been popular in India too. Indian cricketers like Sunil Gavaskar, Kapil Dev and Tendulker have earned name and fame in world cricket. Still then, more and more Indian should come forward to learn this game"
      ],
      "metadata": {
        "id": "2Ym55uOBs6iz"
      }
    },
    {
      "cell_type": "markdown",
      "source": [
        "# **Is there a large number of concepts packed into a small amount of space?**\n",
        "\n",
        "\n",
        "The graph is the ideal size, and the method used is rational and ideal. It has all of the information that a good graph should have. Because the graph is nicely created in that amount of space, an audience can utilize it to create a tale. The graph is the ideal size for use in newsletters and articles, as it is neither too large nor too little. Even if the graph's size is raised, I don't think it will make a difference in the graph's appearance or information."
      ],
      "metadata": {
        "id": "CbOvXcoYtmRt"
      }
    },
    {
      "cell_type": "markdown",
      "source": [
        "# **Conclusion**\n",
        "\n",
        "Finally, I believe that visualizing a sports team's recent pattern is critical. It's a topic I've been paying attention to on a daily basis. In this assignment, I provided a total of three graphs, each of which depicts the same data in a different way. The ability to comprehend the same facts can be differentiated in several ways using the graph. Data visualization is critical, and using appropriate graphical brilliance makes it crystal evident."
      ],
      "metadata": {
        "id": "Lyp0ySgEuOPO"
      }
    },
    {
      "cell_type": "markdown",
      "source": [
        "# **Reference**\n",
        "\n",
        "https://sportsbrowser.net/greatest-cricketers-of-all-time/\n",
        "\n",
        "https://en.wikipedia.org/wiki/Wisden_Leading_Cricketer_in_the_World"
      ],
      "metadata": {
        "id": "smbu6p1zuo0m"
      }
    }
  ]
}