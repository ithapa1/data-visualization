{
  "nbformat": 4,
  "nbformat_minor": 0,
  "metadata": {
    "colab": {
      "name": "Copy of Recreating the Master.ipynb",
      "provenance": [],
      "authorship_tag": "ABX9TyOd8dCF/+XlVMyF2OTQlT7x",
      "include_colab_link": true
    },
    "kernelspec": {
      "name": "python3",
      "display_name": "Python 3"
    },
    "language_info": {
      "name": "python"
    }
  },
  "cells": [
    {
      "cell_type": "markdown",
      "metadata": {
        "id": "view-in-github",
        "colab_type": "text"
      },
      "source": [
        "<a href=\"https://colab.research.google.com/github/ithapa1/data-visualization/blob/main/Copy_of_Recreating_the_Master.ipynb\" target=\"_parent\"><img src=\"https://colab.research.google.com/assets/colab-badge.svg\" alt=\"Open In Colab\"/></a>"
      ]
    },
    {
      "cell_type": "markdown",
      "source": [
        "# **Recreating the Master**\n",
        "Indra Thapa\n",
        "\n",
        "East Central University\n",
        "\n",
        "spring 2022\n",
        "\n",
        "CPMSA 4213\n",
        "\n",
        "Instructor: Dr. Nicholas Jacob \n",
        "\n",
        "**Abstract**: The masters are being re-created. You read it correctly; it is the precise copy and paste of the graph as much as feasible by reconstructing it from the beginning. In this project, I used my deep understanding of graphical brilliance to clean up the data and recreate the graph using several libraries. So, besides that After the code, I'll explain everything I'll be doing. The goal is to find the correct graph and data to go with it. I'm going to use a Forbes ![2020-2021 billainore](https://theenterpriseworld.com/worlds-billionaires-list-2021-forbes/)Data visualization from 2020 to 2021."
      ],
      "metadata": {
        "id": "eEve00PCYcVq"
      }
    },
    {
      "cell_type": "markdown",
      "source": [
        "Here, I am going to take a different topic than previous one because it seems pretty easy to me and data can be found so easily. So, I would like to pick a topic about; the wealthiest person in the world from 2000 to 2021 by forbes."
      ],
      "metadata": {
        "id": "XxMhltocjlKf"
      }
    },
    {
      "cell_type": "markdown",
      "source": [
        "![The most 10 weathiest person in the world](https://www.aei.org/wp-content/uploads/2021/03/Worlds-Top-Ten-Billionaires-2021.png)"
      ],
      "metadata": {
        "id": "pLr1jLonZ-Mm"
      }
    },
    {
      "cell_type": "markdown",
      "source": [
        "Here, I found these picture of visualization from 2020. So, I would like to create a another great visualization with the same master piece. To do so, I need a same information of the billionaire. so, I would like to get a information from the forbes official page.![Forbes](https://www.cnn.com/2020/04/07/business/forbes-billionaire-list-2020/index.html)\n",
        "\n",
        "besides that, The above graph looks really cool and it is also a another master piece of the visualization. So, here Jeff Bezos is leading billionaires in 2020 followed by Bill Gates. Lets see current richest person in the world."
      ],
      "metadata": {
        "id": "ph96OZ08d5Hf"
      }
    },
    {
      "cell_type": "markdown",
      "source": [
        "Now, lets use the libraries that are used to do for recreating the master."
      ],
      "metadata": {
        "id": "w8GYwVjVnie3"
      }
    },
    {
      "cell_type": "code",
      "source": [
        "import numpy as np #a matrix like package for handling data\n",
        "import pandas as pa #a R like package for handling data\n",
        "from scipy import stats #a way to just get a piece of a large package\n",
        "import matplotlib.pyplot as plt #a way to generate plots, histograms, bar charts, and other types of charts \n",
        "import seaborn as sns #it is based on matplotlib\n",
        "import requests #HTTP library\n",
        "import pandas as pd # used to manipulate data and analyze it\n",
        "from bs4 import BeautifulSoup #Used for a web scraping purposes to pull the data out of HTML and XML files\n",
        "import re #Used for regular expression in Python.\n",
        "from matplotlib.offsetbox import TextArea, DrawingArea, OffsetImage, AnnotationBbox #Annotat"
      ],
      "metadata": {
        "id": "IR4BVxC0_GC4"
      },
      "execution_count": 77,
      "outputs": []
    },
    {
      "cell_type": "code",
      "source": [
        "r = requests.get('https://en.wikipedia.org/wiki/The_World%27s_Billionaires')\n",
        "html_contents = r.text\n",
        "html_soup = BeautifulSoup(html_contents,\"lxml\")\n",
        "len(html_soup.find_all('table'))"
      ],
      "metadata": {
        "colab": {
          "base_uri": "https://localhost:8080/"
        },
        "id": "CXGYm00g_Qas",
        "outputId": "8d2e5b69-a9db-4981-9262-c24e2fb32b90"
      },
      "execution_count": 78,
      "outputs": [
        {
          "output_type": "execute_result",
          "data": {
            "text/plain": [
              "46"
            ]
          },
          "metadata": {},
          "execution_count": 78
        }
      ]
    },
    {
      "cell_type": "code",
      "source": [
        "html_soup.title"
      ],
      "metadata": {
        "colab": {
          "base_uri": "https://localhost:8080/"
        },
        "id": "ck_X0C4H_jVn",
        "outputId": "21c1fdc7-fcc3-471e-cacb-6b9194017aac"
      },
      "execution_count": 79,
      "outputs": [
        {
          "output_type": "execute_result",
          "data": {
            "text/plain": [
              "<title>The World's Billionaires - Wikipedia</title>"
            ]
          },
          "metadata": {},
          "execution_count": 79
        }
      ]
    },
    {
      "cell_type": "code",
      "source": [
        "tables = html_soup.find_all('table')\n",
        "df = pa.read_html(str(tables))[5]\n",
        "df"
      ],
      "metadata": {
        "colab": {
          "base_uri": "https://localhost:8080/",
          "height": 363
        },
        "id": "L5jZs9JM_m97",
        "outputId": "b315021e-8705-40be-8eb1-89faa902cc8b"
      },
      "execution_count": 80,
      "outputs": [
        {
          "output_type": "execute_result",
          "data": {
            "text/plain": [
              "   No.               Name Net worth (USD)  Age    Nationality  \\\n",
              "0    1         Jeff Bezos    $131 billion   55  United States   \n",
              "1    2         Bill Gates   $96.5 billion   63  United States   \n",
              "2    3     Warren Buffett   $82.5 billion   88  United States   \n",
              "3    4    Bernard Arnault     $76 billion   70         France   \n",
              "4    5        Carlos Slim     $64 billion   79         Mexico   \n",
              "5    6     Amancio Ortega   $62.7 billion   82          Spain   \n",
              "6    7      Larry Ellison   $62.5 billion   74  United States   \n",
              "7    8    Mark Zuckerberg   $62.3 billion   34  United States   \n",
              "8    9  Michael Bloomberg   $55.5 billion   77  United States   \n",
              "9   10         Larry Page   $50.8 billion   45  United States   \n",
              "\n",
              "          Source(s) of wealth  \n",
              "0                      Amazon  \n",
              "1                   Microsoft  \n",
              "2          Berkshire Hathaway  \n",
              "3                        LVMH  \n",
              "4  América Móvil, Grupo Carso  \n",
              "5               Inditex, Zara  \n",
              "6          Oracle Corporation  \n",
              "7              Facebook, Inc.  \n",
              "8              Bloomberg L.P.  \n",
              "9               Alphabet Inc.  "
            ],
            "text/html": [
              "\n",
              "  <div id=\"df-833a9e54-6a21-47b2-8766-340aff48ad19\">\n",
              "    <div class=\"colab-df-container\">\n",
              "      <div>\n",
              "<style scoped>\n",
              "    .dataframe tbody tr th:only-of-type {\n",
              "        vertical-align: middle;\n",
              "    }\n",
              "\n",
              "    .dataframe tbody tr th {\n",
              "        vertical-align: top;\n",
              "    }\n",
              "\n",
              "    .dataframe thead th {\n",
              "        text-align: right;\n",
              "    }\n",
              "</style>\n",
              "<table border=\"1\" class=\"dataframe\">\n",
              "  <thead>\n",
              "    <tr style=\"text-align: right;\">\n",
              "      <th></th>\n",
              "      <th>No.</th>\n",
              "      <th>Name</th>\n",
              "      <th>Net worth (USD)</th>\n",
              "      <th>Age</th>\n",
              "      <th>Nationality</th>\n",
              "      <th>Source(s) of wealth</th>\n",
              "    </tr>\n",
              "  </thead>\n",
              "  <tbody>\n",
              "    <tr>\n",
              "      <th>0</th>\n",
              "      <td>1</td>\n",
              "      <td>Jeff Bezos</td>\n",
              "      <td>$131 billion</td>\n",
              "      <td>55</td>\n",
              "      <td>United States</td>\n",
              "      <td>Amazon</td>\n",
              "    </tr>\n",
              "    <tr>\n",
              "      <th>1</th>\n",
              "      <td>2</td>\n",
              "      <td>Bill Gates</td>\n",
              "      <td>$96.5 billion</td>\n",
              "      <td>63</td>\n",
              "      <td>United States</td>\n",
              "      <td>Microsoft</td>\n",
              "    </tr>\n",
              "    <tr>\n",
              "      <th>2</th>\n",
              "      <td>3</td>\n",
              "      <td>Warren Buffett</td>\n",
              "      <td>$82.5 billion</td>\n",
              "      <td>88</td>\n",
              "      <td>United States</td>\n",
              "      <td>Berkshire Hathaway</td>\n",
              "    </tr>\n",
              "    <tr>\n",
              "      <th>3</th>\n",
              "      <td>4</td>\n",
              "      <td>Bernard Arnault</td>\n",
              "      <td>$76 billion</td>\n",
              "      <td>70</td>\n",
              "      <td>France</td>\n",
              "      <td>LVMH</td>\n",
              "    </tr>\n",
              "    <tr>\n",
              "      <th>4</th>\n",
              "      <td>5</td>\n",
              "      <td>Carlos Slim</td>\n",
              "      <td>$64 billion</td>\n",
              "      <td>79</td>\n",
              "      <td>Mexico</td>\n",
              "      <td>América Móvil, Grupo Carso</td>\n",
              "    </tr>\n",
              "    <tr>\n",
              "      <th>5</th>\n",
              "      <td>6</td>\n",
              "      <td>Amancio Ortega</td>\n",
              "      <td>$62.7 billion</td>\n",
              "      <td>82</td>\n",
              "      <td>Spain</td>\n",
              "      <td>Inditex, Zara</td>\n",
              "    </tr>\n",
              "    <tr>\n",
              "      <th>6</th>\n",
              "      <td>7</td>\n",
              "      <td>Larry Ellison</td>\n",
              "      <td>$62.5 billion</td>\n",
              "      <td>74</td>\n",
              "      <td>United States</td>\n",
              "      <td>Oracle Corporation</td>\n",
              "    </tr>\n",
              "    <tr>\n",
              "      <th>7</th>\n",
              "      <td>8</td>\n",
              "      <td>Mark Zuckerberg</td>\n",
              "      <td>$62.3 billion</td>\n",
              "      <td>34</td>\n",
              "      <td>United States</td>\n",
              "      <td>Facebook, Inc.</td>\n",
              "    </tr>\n",
              "    <tr>\n",
              "      <th>8</th>\n",
              "      <td>9</td>\n",
              "      <td>Michael Bloomberg</td>\n",
              "      <td>$55.5 billion</td>\n",
              "      <td>77</td>\n",
              "      <td>United States</td>\n",
              "      <td>Bloomberg L.P.</td>\n",
              "    </tr>\n",
              "    <tr>\n",
              "      <th>9</th>\n",
              "      <td>10</td>\n",
              "      <td>Larry Page</td>\n",
              "      <td>$50.8 billion</td>\n",
              "      <td>45</td>\n",
              "      <td>United States</td>\n",
              "      <td>Alphabet Inc.</td>\n",
              "    </tr>\n",
              "  </tbody>\n",
              "</table>\n",
              "</div>\n",
              "      <button class=\"colab-df-convert\" onclick=\"convertToInteractive('df-833a9e54-6a21-47b2-8766-340aff48ad19')\"\n",
              "              title=\"Convert this dataframe to an interactive table.\"\n",
              "              style=\"display:none;\">\n",
              "        \n",
              "  <svg xmlns=\"http://www.w3.org/2000/svg\" height=\"24px\"viewBox=\"0 0 24 24\"\n",
              "       width=\"24px\">\n",
              "    <path d=\"M0 0h24v24H0V0z\" fill=\"none\"/>\n",
              "    <path d=\"M18.56 5.44l.94 2.06.94-2.06 2.06-.94-2.06-.94-.94-2.06-.94 2.06-2.06.94zm-11 1L8.5 8.5l.94-2.06 2.06-.94-2.06-.94L8.5 2.5l-.94 2.06-2.06.94zm10 10l.94 2.06.94-2.06 2.06-.94-2.06-.94-.94-2.06-.94 2.06-2.06.94z\"/><path d=\"M17.41 7.96l-1.37-1.37c-.4-.4-.92-.59-1.43-.59-.52 0-1.04.2-1.43.59L10.3 9.45l-7.72 7.72c-.78.78-.78 2.05 0 2.83L4 21.41c.39.39.9.59 1.41.59.51 0 1.02-.2 1.41-.59l7.78-7.78 2.81-2.81c.8-.78.8-2.07 0-2.86zM5.41 20L4 18.59l7.72-7.72 1.47 1.35L5.41 20z\"/>\n",
              "  </svg>\n",
              "      </button>\n",
              "      \n",
              "  <style>\n",
              "    .colab-df-container {\n",
              "      display:flex;\n",
              "      flex-wrap:wrap;\n",
              "      gap: 12px;\n",
              "    }\n",
              "\n",
              "    .colab-df-convert {\n",
              "      background-color: #E8F0FE;\n",
              "      border: none;\n",
              "      border-radius: 50%;\n",
              "      cursor: pointer;\n",
              "      display: none;\n",
              "      fill: #1967D2;\n",
              "      height: 32px;\n",
              "      padding: 0 0 0 0;\n",
              "      width: 32px;\n",
              "    }\n",
              "\n",
              "    .colab-df-convert:hover {\n",
              "      background-color: #E2EBFA;\n",
              "      box-shadow: 0px 1px 2px rgba(60, 64, 67, 0.3), 0px 1px 3px 1px rgba(60, 64, 67, 0.15);\n",
              "      fill: #174EA6;\n",
              "    }\n",
              "\n",
              "    [theme=dark] .colab-df-convert {\n",
              "      background-color: #3B4455;\n",
              "      fill: #D2E3FC;\n",
              "    }\n",
              "\n",
              "    [theme=dark] .colab-df-convert:hover {\n",
              "      background-color: #434B5C;\n",
              "      box-shadow: 0px 1px 3px 1px rgba(0, 0, 0, 0.15);\n",
              "      filter: drop-shadow(0px 1px 2px rgba(0, 0, 0, 0.3));\n",
              "      fill: #FFFFFF;\n",
              "    }\n",
              "  </style>\n",
              "\n",
              "      <script>\n",
              "        const buttonEl =\n",
              "          document.querySelector('#df-833a9e54-6a21-47b2-8766-340aff48ad19 button.colab-df-convert');\n",
              "        buttonEl.style.display =\n",
              "          google.colab.kernel.accessAllowed ? 'block' : 'none';\n",
              "\n",
              "        async function convertToInteractive(key) {\n",
              "          const element = document.querySelector('#df-833a9e54-6a21-47b2-8766-340aff48ad19');\n",
              "          const dataTable =\n",
              "            await google.colab.kernel.invokeFunction('convertToInteractive',\n",
              "                                                     [key], {});\n",
              "          if (!dataTable) return;\n",
              "\n",
              "          const docLinkHtml = 'Like what you see? Visit the ' +\n",
              "            '<a target=\"_blank\" href=https://colab.research.google.com/notebooks/data_table.ipynb>data table notebook</a>'\n",
              "            + ' to learn more about interactive tables.';\n",
              "          element.innerHTML = '';\n",
              "          dataTable['output_type'] = 'display_data';\n",
              "          await google.colab.output.renderOutput(dataTable, element);\n",
              "          const docLink = document.createElement('div');\n",
              "          docLink.innerHTML = docLinkHtml;\n",
              "          element.appendChild(docLink);\n",
              "        }\n",
              "      </script>\n",
              "    </div>\n",
              "  </div>\n",
              "  "
            ]
          },
          "metadata": {},
          "execution_count": 80
        }
      ]
    },
    {
      "cell_type": "markdown",
      "source": [
        "Now, I am going to find the **datatype** of the Billainore."
      ],
      "metadata": {
        "id": "E2ndfUc1pgdl"
      }
    },
    {
      "cell_type": "code",
      "source": [
        "df.info()"
      ],
      "metadata": {
        "id": "MdzHETNjKdAR",
        "outputId": "f754ce7e-d277-4ee4-fb61-b0ad5f7175c0",
        "colab": {
          "base_uri": "https://localhost:8080/"
        }
      },
      "execution_count": 81,
      "outputs": [
        {
          "output_type": "stream",
          "name": "stdout",
          "text": [
            "<class 'pandas.core.frame.DataFrame'>\n",
            "RangeIndex: 10 entries, 0 to 9\n",
            "Data columns (total 6 columns):\n",
            " #   Column               Non-Null Count  Dtype \n",
            "---  ------               --------------  ----- \n",
            " 0   No.                  10 non-null     int64 \n",
            " 1   Name                 10 non-null     object\n",
            " 2   Net worth (USD)      10 non-null     object\n",
            " 3   Age                  10 non-null     int64 \n",
            " 4   Nationality          10 non-null     object\n",
            " 5   Source(s) of wealth  10 non-null     object\n",
            "dtypes: int64(2), object(4)\n",
            "memory usage: 608.0+ bytes\n"
          ]
        }
      ]
    },
    {
      "cell_type": "markdown",
      "source": [
        "# **Are there any columns or rows that are empty?**\n",
        "let's figure out wether there is any empty columns or rows."
      ],
      "metadata": {
        "id": "1cWCDU0EqKP3"
      }
    },
    {
      "cell_type": "code",
      "source": [
        "df.isnull()"
      ],
      "metadata": {
        "id": "nQu_Ff6eqDTj",
        "outputId": "adefe94d-bc13-4085-9a83-1ee452c6fc1c",
        "colab": {
          "base_uri": "https://localhost:8080/",
          "height": 363
        }
      },
      "execution_count": 82,
      "outputs": [
        {
          "output_type": "execute_result",
          "data": {
            "text/plain": [
              "     No.   Name  Net worth (USD)    Age  Nationality  Source(s) of wealth\n",
              "0  False  False            False  False        False                False\n",
              "1  False  False            False  False        False                False\n",
              "2  False  False            False  False        False                False\n",
              "3  False  False            False  False        False                False\n",
              "4  False  False            False  False        False                False\n",
              "5  False  False            False  False        False                False\n",
              "6  False  False            False  False        False                False\n",
              "7  False  False            False  False        False                False\n",
              "8  False  False            False  False        False                False\n",
              "9  False  False            False  False        False                False"
            ],
            "text/html": [
              "\n",
              "  <div id=\"df-2a1376ef-82f4-4d23-9437-ccb669578ddd\">\n",
              "    <div class=\"colab-df-container\">\n",
              "      <div>\n",
              "<style scoped>\n",
              "    .dataframe tbody tr th:only-of-type {\n",
              "        vertical-align: middle;\n",
              "    }\n",
              "\n",
              "    .dataframe tbody tr th {\n",
              "        vertical-align: top;\n",
              "    }\n",
              "\n",
              "    .dataframe thead th {\n",
              "        text-align: right;\n",
              "    }\n",
              "</style>\n",
              "<table border=\"1\" class=\"dataframe\">\n",
              "  <thead>\n",
              "    <tr style=\"text-align: right;\">\n",
              "      <th></th>\n",
              "      <th>No.</th>\n",
              "      <th>Name</th>\n",
              "      <th>Net worth (USD)</th>\n",
              "      <th>Age</th>\n",
              "      <th>Nationality</th>\n",
              "      <th>Source(s) of wealth</th>\n",
              "    </tr>\n",
              "  </thead>\n",
              "  <tbody>\n",
              "    <tr>\n",
              "      <th>0</th>\n",
              "      <td>False</td>\n",
              "      <td>False</td>\n",
              "      <td>False</td>\n",
              "      <td>False</td>\n",
              "      <td>False</td>\n",
              "      <td>False</td>\n",
              "    </tr>\n",
              "    <tr>\n",
              "      <th>1</th>\n",
              "      <td>False</td>\n",
              "      <td>False</td>\n",
              "      <td>False</td>\n",
              "      <td>False</td>\n",
              "      <td>False</td>\n",
              "      <td>False</td>\n",
              "    </tr>\n",
              "    <tr>\n",
              "      <th>2</th>\n",
              "      <td>False</td>\n",
              "      <td>False</td>\n",
              "      <td>False</td>\n",
              "      <td>False</td>\n",
              "      <td>False</td>\n",
              "      <td>False</td>\n",
              "    </tr>\n",
              "    <tr>\n",
              "      <th>3</th>\n",
              "      <td>False</td>\n",
              "      <td>False</td>\n",
              "      <td>False</td>\n",
              "      <td>False</td>\n",
              "      <td>False</td>\n",
              "      <td>False</td>\n",
              "    </tr>\n",
              "    <tr>\n",
              "      <th>4</th>\n",
              "      <td>False</td>\n",
              "      <td>False</td>\n",
              "      <td>False</td>\n",
              "      <td>False</td>\n",
              "      <td>False</td>\n",
              "      <td>False</td>\n",
              "    </tr>\n",
              "    <tr>\n",
              "      <th>5</th>\n",
              "      <td>False</td>\n",
              "      <td>False</td>\n",
              "      <td>False</td>\n",
              "      <td>False</td>\n",
              "      <td>False</td>\n",
              "      <td>False</td>\n",
              "    </tr>\n",
              "    <tr>\n",
              "      <th>6</th>\n",
              "      <td>False</td>\n",
              "      <td>False</td>\n",
              "      <td>False</td>\n",
              "      <td>False</td>\n",
              "      <td>False</td>\n",
              "      <td>False</td>\n",
              "    </tr>\n",
              "    <tr>\n",
              "      <th>7</th>\n",
              "      <td>False</td>\n",
              "      <td>False</td>\n",
              "      <td>False</td>\n",
              "      <td>False</td>\n",
              "      <td>False</td>\n",
              "      <td>False</td>\n",
              "    </tr>\n",
              "    <tr>\n",
              "      <th>8</th>\n",
              "      <td>False</td>\n",
              "      <td>False</td>\n",
              "      <td>False</td>\n",
              "      <td>False</td>\n",
              "      <td>False</td>\n",
              "      <td>False</td>\n",
              "    </tr>\n",
              "    <tr>\n",
              "      <th>9</th>\n",
              "      <td>False</td>\n",
              "      <td>False</td>\n",
              "      <td>False</td>\n",
              "      <td>False</td>\n",
              "      <td>False</td>\n",
              "      <td>False</td>\n",
              "    </tr>\n",
              "  </tbody>\n",
              "</table>\n",
              "</div>\n",
              "      <button class=\"colab-df-convert\" onclick=\"convertToInteractive('df-2a1376ef-82f4-4d23-9437-ccb669578ddd')\"\n",
              "              title=\"Convert this dataframe to an interactive table.\"\n",
              "              style=\"display:none;\">\n",
              "        \n",
              "  <svg xmlns=\"http://www.w3.org/2000/svg\" height=\"24px\"viewBox=\"0 0 24 24\"\n",
              "       width=\"24px\">\n",
              "    <path d=\"M0 0h24v24H0V0z\" fill=\"none\"/>\n",
              "    <path d=\"M18.56 5.44l.94 2.06.94-2.06 2.06-.94-2.06-.94-.94-2.06-.94 2.06-2.06.94zm-11 1L8.5 8.5l.94-2.06 2.06-.94-2.06-.94L8.5 2.5l-.94 2.06-2.06.94zm10 10l.94 2.06.94-2.06 2.06-.94-2.06-.94-.94-2.06-.94 2.06-2.06.94z\"/><path d=\"M17.41 7.96l-1.37-1.37c-.4-.4-.92-.59-1.43-.59-.52 0-1.04.2-1.43.59L10.3 9.45l-7.72 7.72c-.78.78-.78 2.05 0 2.83L4 21.41c.39.39.9.59 1.41.59.51 0 1.02-.2 1.41-.59l7.78-7.78 2.81-2.81c.8-.78.8-2.07 0-2.86zM5.41 20L4 18.59l7.72-7.72 1.47 1.35L5.41 20z\"/>\n",
              "  </svg>\n",
              "      </button>\n",
              "      \n",
              "  <style>\n",
              "    .colab-df-container {\n",
              "      display:flex;\n",
              "      flex-wrap:wrap;\n",
              "      gap: 12px;\n",
              "    }\n",
              "\n",
              "    .colab-df-convert {\n",
              "      background-color: #E8F0FE;\n",
              "      border: none;\n",
              "      border-radius: 50%;\n",
              "      cursor: pointer;\n",
              "      display: none;\n",
              "      fill: #1967D2;\n",
              "      height: 32px;\n",
              "      padding: 0 0 0 0;\n",
              "      width: 32px;\n",
              "    }\n",
              "\n",
              "    .colab-df-convert:hover {\n",
              "      background-color: #E2EBFA;\n",
              "      box-shadow: 0px 1px 2px rgba(60, 64, 67, 0.3), 0px 1px 3px 1px rgba(60, 64, 67, 0.15);\n",
              "      fill: #174EA6;\n",
              "    }\n",
              "\n",
              "    [theme=dark] .colab-df-convert {\n",
              "      background-color: #3B4455;\n",
              "      fill: #D2E3FC;\n",
              "    }\n",
              "\n",
              "    [theme=dark] .colab-df-convert:hover {\n",
              "      background-color: #434B5C;\n",
              "      box-shadow: 0px 1px 3px 1px rgba(0, 0, 0, 0.15);\n",
              "      filter: drop-shadow(0px 1px 2px rgba(0, 0, 0, 0.3));\n",
              "      fill: #FFFFFF;\n",
              "    }\n",
              "  </style>\n",
              "\n",
              "      <script>\n",
              "        const buttonEl =\n",
              "          document.querySelector('#df-2a1376ef-82f4-4d23-9437-ccb669578ddd button.colab-df-convert');\n",
              "        buttonEl.style.display =\n",
              "          google.colab.kernel.accessAllowed ? 'block' : 'none';\n",
              "\n",
              "        async function convertToInteractive(key) {\n",
              "          const element = document.querySelector('#df-2a1376ef-82f4-4d23-9437-ccb669578ddd');\n",
              "          const dataTable =\n",
              "            await google.colab.kernel.invokeFunction('convertToInteractive',\n",
              "                                                     [key], {});\n",
              "          if (!dataTable) return;\n",
              "\n",
              "          const docLinkHtml = 'Like what you see? Visit the ' +\n",
              "            '<a target=\"_blank\" href=https://colab.research.google.com/notebooks/data_table.ipynb>data table notebook</a>'\n",
              "            + ' to learn more about interactive tables.';\n",
              "          element.innerHTML = '';\n",
              "          dataTable['output_type'] = 'display_data';\n",
              "          await google.colab.output.renderOutput(dataTable, element);\n",
              "          const docLink = document.createElement('div');\n",
              "          docLink.innerHTML = docLinkHtml;\n",
              "          element.appendChild(docLink);\n",
              "        }\n",
              "      </script>\n",
              "    </div>\n",
              "  </div>\n",
              "  "
            ]
          },
          "metadata": {},
          "execution_count": 82
        }
      ]
    },
    {
      "cell_type": "markdown",
      "source": [
        "Now, the above table looks great but I would like to clean it more by recreating the master. To do so, I would like to use the link given by the professor from where I can get idea to recreating the data. [[link](https://github.com/nurfnick/Data_Viz/blob/main/RecreatingMasters.ipynb)"
      ],
      "metadata": {
        "id": "M-1gTorTAFFz"
      }
    },
    {
      "cell_type": "markdown",
      "source": [
        "Here, in the above graph I was trying to do it by Name and net worth but somehow it didn't work but it works by age though instead of Net worth. I hope this will work."
      ],
      "metadata": {
        "id": "OBG_EahjN8M0"
      }
    },
    {
      "cell_type": "markdown",
      "source": [
        "# **Need some Data Cleaning**\n",
        "Now, The above graph need a lot of cleaning. I have a lot of cleaning to do on my rows and column here. As you can see, there is more information that will reduce the effectiveness of my visualization. I divided the data cleansing process into two parts.\n",
        "\n",
        "     a.column part(Y-axis)\n",
        "\n",
        "     b. row part(X-axis)"
      ],
      "metadata": {
        "id": "YyeYWNjSqn82"
      }
    },
    {
      "cell_type": "markdown",
      "source": [
        "columns part\n",
        "\n",
        "I need to tidy out some superfluous spaces, numerals, and notations. And the code below shows the procedure I used to clean my columns step by step. now, I am going to pull out the columns data."
      ],
      "metadata": {
        "id": "CnP1OCtwsX43"
      }
    },
    {
      "cell_type": "code",
      "source": [
        "df.columns"
      ],
      "metadata": {
        "id": "9TnYls-Is4S8",
        "outputId": "2a42e75d-d6e7-4d04-de16-b0d98fc52669",
        "colab": {
          "base_uri": "https://localhost:8080/"
        }
      },
      "execution_count": 83,
      "outputs": [
        {
          "output_type": "execute_result",
          "data": {
            "text/plain": [
              "Index(['No.', 'Name', 'Net worth (USD)', 'Age', 'Nationality',\n",
              "       'Source(s) of wealth'],\n",
              "      dtype='object')"
            ]
          },
          "metadata": {},
          "execution_count": 83
        }
      ]
    },
    {
      "cell_type": "markdown",
      "source": [
        "Rather than going back and looking at the names of my table columns, I'm using df.columns to get a list of all the columns in my data. We can always go back and look up the names of the columns. df.columns, on the other hand, simply saves us time and makes our job easier. so, here i can see  [], () etc. lets clean these special character."
      ],
      "metadata": {
        "id": "bpqgsM6KtRH2"
      }
    },
    {
      "cell_type": "code",
      "source": [
        "cols = df.columns.map(lambda s: re.sub(r\"[(.())./d]\",\"\",s))\n",
        "cols"
      ],
      "metadata": {
        "id": "0RJfZVXItrdL",
        "outputId": "b2039791-fc82-49e3-dd73-ae6b8abce42e",
        "colab": {
          "base_uri": "https://localhost:8080/"
        }
      },
      "execution_count": 84,
      "outputs": [
        {
          "output_type": "execute_result",
          "data": {
            "text/plain": [
              "Index(['No', 'Name', 'Net worth USD', 'Age', 'Nationality',\n",
              "       'Sources of wealth'],\n",
              "      dtype='object')"
            ]
          },
          "metadata": {},
          "execution_count": 84
        }
      ]
    },
    {
      "cell_type": "markdown",
      "source": [
        "To sanitize my data, I utilized the RegEx package. It took me a bit to find out how to do.However, it appears to be working now that the brackets have been added."
      ],
      "metadata": {
        "id": "j-rzXQrGuHeF"
      }
    },
    {
      "cell_type": "markdown",
      "source": [
        "Now to use the above changes into my data. i have to do the following things. here you go.."
      ],
      "metadata": {
        "id": "ApAfm5Oiuf6Z"
      }
    },
    {
      "cell_type": "code",
      "source": [
        "df.columns = df.columns.map(lambda s: re.sub(r\"[(.())./d]\",\"\",s))"
      ],
      "metadata": {
        "id": "e8E1sB2nuaDO"
      },
      "execution_count": 85,
      "outputs": []
    },
    {
      "cell_type": "code",
      "source": [
        "df.columns"
      ],
      "metadata": {
        "id": "JgohNPb5uvs6",
        "outputId": "73508b20-74eb-427f-8569-f99544a0605b",
        "colab": {
          "base_uri": "https://localhost:8080/"
        }
      },
      "execution_count": 86,
      "outputs": [
        {
          "output_type": "execute_result",
          "data": {
            "text/plain": [
              "Index(['No', 'Name', 'Net worth USD', 'Age', 'Nationality',\n",
              "       'Sources of wealth'],\n",
              "      dtype='object')"
            ]
          },
          "metadata": {},
          "execution_count": 86
        }
      ]
    },
    {
      "cell_type": "code",
      "source": [
        "cols1 = df.columns.map(lambda s: re.sub(r\" \",\"\",s))\n",
        "cols1"
      ],
      "metadata": {
        "id": "1oI8gg7a2RuC",
        "outputId": "655c8a64-9be7-4581-9250-c969033824eb",
        "colab": {
          "base_uri": "https://localhost:8080/"
        }
      },
      "execution_count": 87,
      "outputs": [
        {
          "output_type": "execute_result",
          "data": {
            "text/plain": [
              "Index(['No', 'Name', 'NetworthUSD', 'Age', 'Nationality', 'Sourcesofwealth'], dtype='object')"
            ]
          },
          "metadata": {},
          "execution_count": 87
        }
      ]
    },
    {
      "cell_type": "code",
      "source": [
        "df.columns = df.columns.map(lambda s: re.sub(r\" \",\"\",s))"
      ],
      "metadata": {
        "id": "bzCQfwtD2Zwf"
      },
      "execution_count": 88,
      "outputs": []
    },
    {
      "cell_type": "code",
      "source": [
        "df.columns"
      ],
      "metadata": {
        "id": "krGEUmj22cmz",
        "outputId": "d4bc7b4f-f730-4c89-baec-f0631c0dbeaf",
        "colab": {
          "base_uri": "https://localhost:8080/"
        }
      },
      "execution_count": 89,
      "outputs": [
        {
          "output_type": "execute_result",
          "data": {
            "text/plain": [
              "Index(['No', 'Name', 'NetworthUSD', 'Age', 'Nationality', 'Sourcesofwealth'], dtype='object')"
            ]
          },
          "metadata": {},
          "execution_count": 89
        }
      ]
    },
    {
      "cell_type": "markdown",
      "source": [
        "Now, I am moving towards cleaing the X_lables"
      ],
      "metadata": {
        "id": "LZbmQdPb2h47"
      }
    },
    {
      "cell_type": "code",
      "source": [
        "Name = df.Name.map (lambda s: s.upper())"
      ],
      "metadata": {
        "id": "3UADklfh21gH"
      },
      "execution_count": 90,
      "outputs": []
    },
    {
      "cell_type": "code",
      "source": [
        "df.Name =df.Name.map(lambda s: s.upper())"
      ],
      "metadata": {
        "id": "Nxks703v24aJ"
      },
      "execution_count": 91,
      "outputs": []
    },
    {
      "cell_type": "markdown",
      "source": [
        ""
      ],
      "metadata": {
        "id": "L-lUhWRY8RZ3"
      }
    },
    {
      "cell_type": "code",
      "source": [
        "df_sorted= df.sort_values('NetworthUSD')"
      ],
      "metadata": {
        "id": "l4pdK2qW7Don"
      },
      "execution_count": 92,
      "outputs": []
    },
    {
      "cell_type": "code",
      "source": [
        "df_sorted"
      ],
      "metadata": {
        "id": "CnxI-BVD7654",
        "outputId": "dec331b2-670b-49cf-db67-88b06bfea2b5",
        "colab": {
          "base_uri": "https://localhost:8080/",
          "height": 363
        }
      },
      "execution_count": 93,
      "outputs": [
        {
          "output_type": "execute_result",
          "data": {
            "text/plain": [
              "   No               Name    NetworthUSD  Age    Nationality  \\\n",
              "0   1         JEFF BEZOS   $131 billion   55  United States   \n",
              "9  10         LARRY PAGE  $50.8 billion   45  United States   \n",
              "8   9  MICHAEL BLOOMBERG  $55.5 billion   77  United States   \n",
              "7   8    MARK ZUCKERBERG  $62.3 billion   34  United States   \n",
              "6   7      LARRY ELLISON  $62.5 billion   74  United States   \n",
              "5   6     AMANCIO ORTEGA  $62.7 billion   82          Spain   \n",
              "4   5        CARLOS SLIM    $64 billion   79         Mexico   \n",
              "3   4    BERNARD ARNAULT    $76 billion   70         France   \n",
              "2   3     WARREN BUFFETT  $82.5 billion   88  United States   \n",
              "1   2         BILL GATES  $96.5 billion   63  United States   \n",
              "\n",
              "              Sourcesofwealth  \n",
              "0                      Amazon  \n",
              "9               Alphabet Inc.  \n",
              "8              Bloomberg L.P.  \n",
              "7              Facebook, Inc.  \n",
              "6          Oracle Corporation  \n",
              "5               Inditex, Zara  \n",
              "4  América Móvil, Grupo Carso  \n",
              "3                        LVMH  \n",
              "2          Berkshire Hathaway  \n",
              "1                   Microsoft  "
            ],
            "text/html": [
              "\n",
              "  <div id=\"df-24be50a5-47d4-454b-ac98-6cf0a229da4f\">\n",
              "    <div class=\"colab-df-container\">\n",
              "      <div>\n",
              "<style scoped>\n",
              "    .dataframe tbody tr th:only-of-type {\n",
              "        vertical-align: middle;\n",
              "    }\n",
              "\n",
              "    .dataframe tbody tr th {\n",
              "        vertical-align: top;\n",
              "    }\n",
              "\n",
              "    .dataframe thead th {\n",
              "        text-align: right;\n",
              "    }\n",
              "</style>\n",
              "<table border=\"1\" class=\"dataframe\">\n",
              "  <thead>\n",
              "    <tr style=\"text-align: right;\">\n",
              "      <th></th>\n",
              "      <th>No</th>\n",
              "      <th>Name</th>\n",
              "      <th>NetworthUSD</th>\n",
              "      <th>Age</th>\n",
              "      <th>Nationality</th>\n",
              "      <th>Sourcesofwealth</th>\n",
              "    </tr>\n",
              "  </thead>\n",
              "  <tbody>\n",
              "    <tr>\n",
              "      <th>0</th>\n",
              "      <td>1</td>\n",
              "      <td>JEFF BEZOS</td>\n",
              "      <td>$131 billion</td>\n",
              "      <td>55</td>\n",
              "      <td>United States</td>\n",
              "      <td>Amazon</td>\n",
              "    </tr>\n",
              "    <tr>\n",
              "      <th>9</th>\n",
              "      <td>10</td>\n",
              "      <td>LARRY PAGE</td>\n",
              "      <td>$50.8 billion</td>\n",
              "      <td>45</td>\n",
              "      <td>United States</td>\n",
              "      <td>Alphabet Inc.</td>\n",
              "    </tr>\n",
              "    <tr>\n",
              "      <th>8</th>\n",
              "      <td>9</td>\n",
              "      <td>MICHAEL BLOOMBERG</td>\n",
              "      <td>$55.5 billion</td>\n",
              "      <td>77</td>\n",
              "      <td>United States</td>\n",
              "      <td>Bloomberg L.P.</td>\n",
              "    </tr>\n",
              "    <tr>\n",
              "      <th>7</th>\n",
              "      <td>8</td>\n",
              "      <td>MARK ZUCKERBERG</td>\n",
              "      <td>$62.3 billion</td>\n",
              "      <td>34</td>\n",
              "      <td>United States</td>\n",
              "      <td>Facebook, Inc.</td>\n",
              "    </tr>\n",
              "    <tr>\n",
              "      <th>6</th>\n",
              "      <td>7</td>\n",
              "      <td>LARRY ELLISON</td>\n",
              "      <td>$62.5 billion</td>\n",
              "      <td>74</td>\n",
              "      <td>United States</td>\n",
              "      <td>Oracle Corporation</td>\n",
              "    </tr>\n",
              "    <tr>\n",
              "      <th>5</th>\n",
              "      <td>6</td>\n",
              "      <td>AMANCIO ORTEGA</td>\n",
              "      <td>$62.7 billion</td>\n",
              "      <td>82</td>\n",
              "      <td>Spain</td>\n",
              "      <td>Inditex, Zara</td>\n",
              "    </tr>\n",
              "    <tr>\n",
              "      <th>4</th>\n",
              "      <td>5</td>\n",
              "      <td>CARLOS SLIM</td>\n",
              "      <td>$64 billion</td>\n",
              "      <td>79</td>\n",
              "      <td>Mexico</td>\n",
              "      <td>América Móvil, Grupo Carso</td>\n",
              "    </tr>\n",
              "    <tr>\n",
              "      <th>3</th>\n",
              "      <td>4</td>\n",
              "      <td>BERNARD ARNAULT</td>\n",
              "      <td>$76 billion</td>\n",
              "      <td>70</td>\n",
              "      <td>France</td>\n",
              "      <td>LVMH</td>\n",
              "    </tr>\n",
              "    <tr>\n",
              "      <th>2</th>\n",
              "      <td>3</td>\n",
              "      <td>WARREN BUFFETT</td>\n",
              "      <td>$82.5 billion</td>\n",
              "      <td>88</td>\n",
              "      <td>United States</td>\n",
              "      <td>Berkshire Hathaway</td>\n",
              "    </tr>\n",
              "    <tr>\n",
              "      <th>1</th>\n",
              "      <td>2</td>\n",
              "      <td>BILL GATES</td>\n",
              "      <td>$96.5 billion</td>\n",
              "      <td>63</td>\n",
              "      <td>United States</td>\n",
              "      <td>Microsoft</td>\n",
              "    </tr>\n",
              "  </tbody>\n",
              "</table>\n",
              "</div>\n",
              "      <button class=\"colab-df-convert\" onclick=\"convertToInteractive('df-24be50a5-47d4-454b-ac98-6cf0a229da4f')\"\n",
              "              title=\"Convert this dataframe to an interactive table.\"\n",
              "              style=\"display:none;\">\n",
              "        \n",
              "  <svg xmlns=\"http://www.w3.org/2000/svg\" height=\"24px\"viewBox=\"0 0 24 24\"\n",
              "       width=\"24px\">\n",
              "    <path d=\"M0 0h24v24H0V0z\" fill=\"none\"/>\n",
              "    <path d=\"M18.56 5.44l.94 2.06.94-2.06 2.06-.94-2.06-.94-.94-2.06-.94 2.06-2.06.94zm-11 1L8.5 8.5l.94-2.06 2.06-.94-2.06-.94L8.5 2.5l-.94 2.06-2.06.94zm10 10l.94 2.06.94-2.06 2.06-.94-2.06-.94-.94-2.06-.94 2.06-2.06.94z\"/><path d=\"M17.41 7.96l-1.37-1.37c-.4-.4-.92-.59-1.43-.59-.52 0-1.04.2-1.43.59L10.3 9.45l-7.72 7.72c-.78.78-.78 2.05 0 2.83L4 21.41c.39.39.9.59 1.41.59.51 0 1.02-.2 1.41-.59l7.78-7.78 2.81-2.81c.8-.78.8-2.07 0-2.86zM5.41 20L4 18.59l7.72-7.72 1.47 1.35L5.41 20z\"/>\n",
              "  </svg>\n",
              "      </button>\n",
              "      \n",
              "  <style>\n",
              "    .colab-df-container {\n",
              "      display:flex;\n",
              "      flex-wrap:wrap;\n",
              "      gap: 12px;\n",
              "    }\n",
              "\n",
              "    .colab-df-convert {\n",
              "      background-color: #E8F0FE;\n",
              "      border: none;\n",
              "      border-radius: 50%;\n",
              "      cursor: pointer;\n",
              "      display: none;\n",
              "      fill: #1967D2;\n",
              "      height: 32px;\n",
              "      padding: 0 0 0 0;\n",
              "      width: 32px;\n",
              "    }\n",
              "\n",
              "    .colab-df-convert:hover {\n",
              "      background-color: #E2EBFA;\n",
              "      box-shadow: 0px 1px 2px rgba(60, 64, 67, 0.3), 0px 1px 3px 1px rgba(60, 64, 67, 0.15);\n",
              "      fill: #174EA6;\n",
              "    }\n",
              "\n",
              "    [theme=dark] .colab-df-convert {\n",
              "      background-color: #3B4455;\n",
              "      fill: #D2E3FC;\n",
              "    }\n",
              "\n",
              "    [theme=dark] .colab-df-convert:hover {\n",
              "      background-color: #434B5C;\n",
              "      box-shadow: 0px 1px 3px 1px rgba(0, 0, 0, 0.15);\n",
              "      filter: drop-shadow(0px 1px 2px rgba(0, 0, 0, 0.3));\n",
              "      fill: #FFFFFF;\n",
              "    }\n",
              "  </style>\n",
              "\n",
              "      <script>\n",
              "        const buttonEl =\n",
              "          document.querySelector('#df-24be50a5-47d4-454b-ac98-6cf0a229da4f button.colab-df-convert');\n",
              "        buttonEl.style.display =\n",
              "          google.colab.kernel.accessAllowed ? 'block' : 'none';\n",
              "\n",
              "        async function convertToInteractive(key) {\n",
              "          const element = document.querySelector('#df-24be50a5-47d4-454b-ac98-6cf0a229da4f');\n",
              "          const dataTable =\n",
              "            await google.colab.kernel.invokeFunction('convertToInteractive',\n",
              "                                                     [key], {});\n",
              "          if (!dataTable) return;\n",
              "\n",
              "          const docLinkHtml = 'Like what you see? Visit the ' +\n",
              "            '<a target=\"_blank\" href=https://colab.research.google.com/notebooks/data_table.ipynb>data table notebook</a>'\n",
              "            + ' to learn more about interactive tables.';\n",
              "          element.innerHTML = '';\n",
              "          dataTable['output_type'] = 'display_data';\n",
              "          await google.colab.output.renderOutput(dataTable, element);\n",
              "          const docLink = document.createElement('div');\n",
              "          docLink.innerHTML = docLinkHtml;\n",
              "          element.appendChild(docLink);\n",
              "        }\n",
              "      </script>\n",
              "    </div>\n",
              "  </div>\n",
              "  "
            ]
          },
          "metadata": {},
          "execution_count": 93
        }
      ]
    },
    {
      "cell_type": "code",
      "source": [
        "df['NetworthUSD'] = df['NetworthUSD'].str.strip('B') #Removing B\n",
        "df['NetworthUSD'] = df['NetworthUSD'].str.strip('$') #Removing $\n",
        "df['NetworthUSD'] #display variable in output"
      ],
      "metadata": {
        "colab": {
          "base_uri": "https://localhost:8080/"
        },
        "id": "qTxnheUQBiXm",
        "outputId": "6bddcdd4-9c10-43ff-fa8c-457f7530a787"
      },
      "execution_count": 94,
      "outputs": [
        {
          "output_type": "execute_result",
          "data": {
            "text/plain": [
              "0     131 billion\n",
              "1    96.5 billion\n",
              "2    82.5 billion\n",
              "3      76 billion\n",
              "4      64 billion\n",
              "5    62.7 billion\n",
              "6    62.5 billion\n",
              "7    62.3 billion\n",
              "8    55.5 billion\n",
              "9    50.8 billion\n",
              "Name: NetworthUSD, dtype: object"
            ]
          },
          "metadata": {},
          "execution_count": 94
        }
      ]
    },
    {
      "cell_type": "code",
      "source": [
        "df = df.dropna()"
      ],
      "metadata": {
        "id": "YBtxx2u1BZzQ"
      },
      "execution_count": 95,
      "outputs": []
    },
    {
      "cell_type": "code",
      "source": [
        "print(df.isnull().sum())"
      ],
      "metadata": {
        "colab": {
          "base_uri": "https://localhost:8080/"
        },
        "id": "q4Wt5UYyDgEu",
        "outputId": "a1976881-e46f-458f-f2c1-45f2de5b36d8"
      },
      "execution_count": 96,
      "outputs": [
        {
          "output_type": "stream",
          "name": "stdout",
          "text": [
            "No                 0\n",
            "Name               0\n",
            "NetworthUSD        0\n",
            "Age                0\n",
            "Nationality        0\n",
            "Sourcesofwealth    0\n",
            "dtype: int64\n"
          ]
        }
      ]
    },
    {
      "cell_type": "markdown",
      "source": [
        "Now, data is ready for visualization."
      ],
      "metadata": {
        "id": "q17buT8s3BBt"
      }
    }
  ]
}