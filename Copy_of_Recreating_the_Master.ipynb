{
  "cells": [
    {
      "cell_type": "markdown",
      "metadata": {
        "id": "view-in-github",
        "colab_type": "text"
      },
      "source": [
        "<a href=\"https://colab.research.google.com/github/ithapa1/data-visualization/blob/main/Copy_of_Recreating_the_Master.ipynb\" target=\"_parent\"><img src=\"https://colab.research.google.com/assets/colab-badge.svg\" alt=\"Open In Colab\"/></a>"
      ]
    },
    {
      "cell_type": "markdown",
      "metadata": {
        "id": "eEve00PCYcVq"
      },
      "source": [
        "# **Recreating the Master**\n",
        "Indra Thapa\n",
        "\n",
        "East Central University\n",
        "\n",
        "spring 2022\n",
        "\n",
        "CPMSA 4213\n",
        "\n",
        "Instructor: Dr. Nicholas Jacob \n",
        "\n",
        "**Abstract**: The masters are being re-created. You read it correctly; it is the precise copy and paste of the graph as much as feasible by reconstructing it from the beginning. In this project, I used my deep understanding of graphical brilliance to clean up the data and recreate the graph using several libraries. So, besides that After the code, I'll explain everything I'll be doing. The goal is to find the correct graph and data to go with it. I'm going to use a Forbes ![2020-2021 billainore](https://theenterpriseworld.com/worlds-billionaires-list-2021-forbes/)Data visualization from 2020 to 2021."
      ]
    },
    {
      "cell_type": "markdown",
      "metadata": {
        "id": "XxMhltocjlKf"
      },
      "source": [
        "Here, I am going to take a different topic than previous one because it seems pretty easy to me and data can be found so easily. So, I would like to pick a topic about; the wealthiest person in the world from 2000 to 2021 by forbes."
      ]
    },
    {
      "cell_type": "markdown",
      "metadata": {
        "id": "pLr1jLonZ-Mm"
      },
      "source": [
        "![The most 10 weathiest person in the world](https://www.aei.org/wp-content/uploads/2019/07/Forbes1.png)"
      ]
    },
    {
      "cell_type": "markdown",
      "metadata": {
        "id": "ph96OZ08d5Hf"
      },
      "source": [
        "Here, I found these picture of visualization from 2020. So, I would like to create a another great visualization with the same master piece. To do so, I need a same information of the billionaire. so, I would like to get a information from the forbes official page.![Forbes](https://www.cnn.com/2020/04/07/business/forbes-billionaire-list-2020/index.html)\n",
        "\n",
        "besides that, The above graph looks really cool and it is also a another master piece of the visualization. So, here Jeff Bezos is leading billionaires in 2020 followed by Bill Gates. Lets see current richest person in the world."
      ]
    },
    {
      "cell_type": "markdown",
      "metadata": {
        "id": "w8GYwVjVnie3"
      },
      "source": [
        "Now, lets use the libraries that are used to do for recreating the master."
      ]
    },
    {
      "cell_type": "code",
      "execution_count": null,
      "metadata": {
        "id": "IR4BVxC0_GC4"
      },
      "outputs": [],
      "source": [
        "import numpy as np #a matrix like package for handling data\n",
        "import pandas as pa #a R like package for handling data\n",
        "from scipy import stats #a way to just get a piece of a large package\n",
        "import matplotlib.pyplot as plt #a way to generate plots, histograms, bar charts, and other types of charts \n",
        "import seaborn as sns #it is based on matplotlib\n",
        "import requests #HTTP library\n",
        "import pandas as pd # used to manipulate data and analyze it\n",
        "from bs4 import BeautifulSoup #Used for a web scraping purposes to pull the data out of HTML and XML files\n",
        "import re #Used for regular expression in Python.\n",
        "from matplotlib.offsetbox import TextArea, DrawingArea, OffsetImage, AnnotationBbox #Annotat"
      ]
    },
    {
      "cell_type": "code",
      "execution_count": null,
      "metadata": {
        "colab": {
          "base_uri": "https://localhost:8080/"
        },
        "id": "CXGYm00g_Qas",
        "outputId": "f4a9ac28-de92-4e8e-b87e-a39d9359e87b"
      },
      "outputs": [
        {
          "output_type": "execute_result",
          "data": {
            "text/plain": [
              "46"
            ]
          },
          "metadata": {},
          "execution_count": 240
        }
      ],
      "source": [
        "r = requests.get('https://en.wikipedia.org/wiki/The_World%27s_Billionaires')\n",
        "html_contents = r.text\n",
        "html_soup = BeautifulSoup(html_contents,\"lxml\")\n",
        "len(html_soup.find_all('table'))"
      ]
    },
    {
      "cell_type": "code",
      "execution_count": null,
      "metadata": {
        "colab": {
          "base_uri": "https://localhost:8080/"
        },
        "id": "ck_X0C4H_jVn",
        "outputId": "a508ec5f-e8e5-4222-cc82-97991b5e5ba0"
      },
      "outputs": [
        {
          "output_type": "execute_result",
          "data": {
            "text/plain": [
              "<title>The World's Billionaires - Wikipedia</title>"
            ]
          },
          "metadata": {},
          "execution_count": 241
        }
      ],
      "source": [
        "html_soup.title"
      ]
    },
    {
      "cell_type": "code",
      "execution_count": null,
      "metadata": {
        "colab": {
          "base_uri": "https://localhost:8080/",
          "height": 363
        },
        "id": "L5jZs9JM_m97",
        "outputId": "fce2bf53-0c47-4155-a9c4-7c1b9b0221ef"
      },
      "outputs": [
        {
          "output_type": "execute_result",
          "data": {
            "text/plain": [
              "   No.               Name Net worth (USD)  Age    Nationality  \\\n",
              "0    1         Jeff Bezos    $131 billion   55  United States   \n",
              "1    2         Bill Gates   $96.5 billion   63  United States   \n",
              "2    3     Warren Buffett   $82.5 billion   88  United States   \n",
              "3    4    Bernard Arnault     $76 billion   70         France   \n",
              "4    5        Carlos Slim     $64 billion   79         Mexico   \n",
              "5    6     Amancio Ortega   $62.7 billion   82          Spain   \n",
              "6    7      Larry Ellison   $62.5 billion   74  United States   \n",
              "7    8    Mark Zuckerberg   $62.3 billion   34  United States   \n",
              "8    9  Michael Bloomberg   $55.5 billion   77  United States   \n",
              "9   10         Larry Page   $50.8 billion   45  United States   \n",
              "\n",
              "          Source(s) of wealth  \n",
              "0                      Amazon  \n",
              "1                   Microsoft  \n",
              "2          Berkshire Hathaway  \n",
              "3                        LVMH  \n",
              "4  América Móvil, Grupo Carso  \n",
              "5               Inditex, Zara  \n",
              "6          Oracle Corporation  \n",
              "7              Facebook, Inc.  \n",
              "8              Bloomberg L.P.  \n",
              "9               Alphabet Inc.  "
            ],
            "text/html": [
              "\n",
              "  <div id=\"df-552dd584-aed4-4b18-97f3-f0da9332e9b2\">\n",
              "    <div class=\"colab-df-container\">\n",
              "      <div>\n",
              "<style scoped>\n",
              "    .dataframe tbody tr th:only-of-type {\n",
              "        vertical-align: middle;\n",
              "    }\n",
              "\n",
              "    .dataframe tbody tr th {\n",
              "        vertical-align: top;\n",
              "    }\n",
              "\n",
              "    .dataframe thead th {\n",
              "        text-align: right;\n",
              "    }\n",
              "</style>\n",
              "<table border=\"1\" class=\"dataframe\">\n",
              "  <thead>\n",
              "    <tr style=\"text-align: right;\">\n",
              "      <th></th>\n",
              "      <th>No.</th>\n",
              "      <th>Name</th>\n",
              "      <th>Net worth (USD)</th>\n",
              "      <th>Age</th>\n",
              "      <th>Nationality</th>\n",
              "      <th>Source(s) of wealth</th>\n",
              "    </tr>\n",
              "  </thead>\n",
              "  <tbody>\n",
              "    <tr>\n",
              "      <th>0</th>\n",
              "      <td>1</td>\n",
              "      <td>Jeff Bezos</td>\n",
              "      <td>$131 billion</td>\n",
              "      <td>55</td>\n",
              "      <td>United States</td>\n",
              "      <td>Amazon</td>\n",
              "    </tr>\n",
              "    <tr>\n",
              "      <th>1</th>\n",
              "      <td>2</td>\n",
              "      <td>Bill Gates</td>\n",
              "      <td>$96.5 billion</td>\n",
              "      <td>63</td>\n",
              "      <td>United States</td>\n",
              "      <td>Microsoft</td>\n",
              "    </tr>\n",
              "    <tr>\n",
              "      <th>2</th>\n",
              "      <td>3</td>\n",
              "      <td>Warren Buffett</td>\n",
              "      <td>$82.5 billion</td>\n",
              "      <td>88</td>\n",
              "      <td>United States</td>\n",
              "      <td>Berkshire Hathaway</td>\n",
              "    </tr>\n",
              "    <tr>\n",
              "      <th>3</th>\n",
              "      <td>4</td>\n",
              "      <td>Bernard Arnault</td>\n",
              "      <td>$76 billion</td>\n",
              "      <td>70</td>\n",
              "      <td>France</td>\n",
              "      <td>LVMH</td>\n",
              "    </tr>\n",
              "    <tr>\n",
              "      <th>4</th>\n",
              "      <td>5</td>\n",
              "      <td>Carlos Slim</td>\n",
              "      <td>$64 billion</td>\n",
              "      <td>79</td>\n",
              "      <td>Mexico</td>\n",
              "      <td>América Móvil, Grupo Carso</td>\n",
              "    </tr>\n",
              "    <tr>\n",
              "      <th>5</th>\n",
              "      <td>6</td>\n",
              "      <td>Amancio Ortega</td>\n",
              "      <td>$62.7 billion</td>\n",
              "      <td>82</td>\n",
              "      <td>Spain</td>\n",
              "      <td>Inditex, Zara</td>\n",
              "    </tr>\n",
              "    <tr>\n",
              "      <th>6</th>\n",
              "      <td>7</td>\n",
              "      <td>Larry Ellison</td>\n",
              "      <td>$62.5 billion</td>\n",
              "      <td>74</td>\n",
              "      <td>United States</td>\n",
              "      <td>Oracle Corporation</td>\n",
              "    </tr>\n",
              "    <tr>\n",
              "      <th>7</th>\n",
              "      <td>8</td>\n",
              "      <td>Mark Zuckerberg</td>\n",
              "      <td>$62.3 billion</td>\n",
              "      <td>34</td>\n",
              "      <td>United States</td>\n",
              "      <td>Facebook, Inc.</td>\n",
              "    </tr>\n",
              "    <tr>\n",
              "      <th>8</th>\n",
              "      <td>9</td>\n",
              "      <td>Michael Bloomberg</td>\n",
              "      <td>$55.5 billion</td>\n",
              "      <td>77</td>\n",
              "      <td>United States</td>\n",
              "      <td>Bloomberg L.P.</td>\n",
              "    </tr>\n",
              "    <tr>\n",
              "      <th>9</th>\n",
              "      <td>10</td>\n",
              "      <td>Larry Page</td>\n",
              "      <td>$50.8 billion</td>\n",
              "      <td>45</td>\n",
              "      <td>United States</td>\n",
              "      <td>Alphabet Inc.</td>\n",
              "    </tr>\n",
              "  </tbody>\n",
              "</table>\n",
              "</div>\n",
              "      <button class=\"colab-df-convert\" onclick=\"convertToInteractive('df-552dd584-aed4-4b18-97f3-f0da9332e9b2')\"\n",
              "              title=\"Convert this dataframe to an interactive table.\"\n",
              "              style=\"display:none;\">\n",
              "        \n",
              "  <svg xmlns=\"http://www.w3.org/2000/svg\" height=\"24px\"viewBox=\"0 0 24 24\"\n",
              "       width=\"24px\">\n",
              "    <path d=\"M0 0h24v24H0V0z\" fill=\"none\"/>\n",
              "    <path d=\"M18.56 5.44l.94 2.06.94-2.06 2.06-.94-2.06-.94-.94-2.06-.94 2.06-2.06.94zm-11 1L8.5 8.5l.94-2.06 2.06-.94-2.06-.94L8.5 2.5l-.94 2.06-2.06.94zm10 10l.94 2.06.94-2.06 2.06-.94-2.06-.94-.94-2.06-.94 2.06-2.06.94z\"/><path d=\"M17.41 7.96l-1.37-1.37c-.4-.4-.92-.59-1.43-.59-.52 0-1.04.2-1.43.59L10.3 9.45l-7.72 7.72c-.78.78-.78 2.05 0 2.83L4 21.41c.39.39.9.59 1.41.59.51 0 1.02-.2 1.41-.59l7.78-7.78 2.81-2.81c.8-.78.8-2.07 0-2.86zM5.41 20L4 18.59l7.72-7.72 1.47 1.35L5.41 20z\"/>\n",
              "  </svg>\n",
              "      </button>\n",
              "      \n",
              "  <style>\n",
              "    .colab-df-container {\n",
              "      display:flex;\n",
              "      flex-wrap:wrap;\n",
              "      gap: 12px;\n",
              "    }\n",
              "\n",
              "    .colab-df-convert {\n",
              "      background-color: #E8F0FE;\n",
              "      border: none;\n",
              "      border-radius: 50%;\n",
              "      cursor: pointer;\n",
              "      display: none;\n",
              "      fill: #1967D2;\n",
              "      height: 32px;\n",
              "      padding: 0 0 0 0;\n",
              "      width: 32px;\n",
              "    }\n",
              "\n",
              "    .colab-df-convert:hover {\n",
              "      background-color: #E2EBFA;\n",
              "      box-shadow: 0px 1px 2px rgba(60, 64, 67, 0.3), 0px 1px 3px 1px rgba(60, 64, 67, 0.15);\n",
              "      fill: #174EA6;\n",
              "    }\n",
              "\n",
              "    [theme=dark] .colab-df-convert {\n",
              "      background-color: #3B4455;\n",
              "      fill: #D2E3FC;\n",
              "    }\n",
              "\n",
              "    [theme=dark] .colab-df-convert:hover {\n",
              "      background-color: #434B5C;\n",
              "      box-shadow: 0px 1px 3px 1px rgba(0, 0, 0, 0.15);\n",
              "      filter: drop-shadow(0px 1px 2px rgba(0, 0, 0, 0.3));\n",
              "      fill: #FFFFFF;\n",
              "    }\n",
              "  </style>\n",
              "\n",
              "      <script>\n",
              "        const buttonEl =\n",
              "          document.querySelector('#df-552dd584-aed4-4b18-97f3-f0da9332e9b2 button.colab-df-convert');\n",
              "        buttonEl.style.display =\n",
              "          google.colab.kernel.accessAllowed ? 'block' : 'none';\n",
              "\n",
              "        async function convertToInteractive(key) {\n",
              "          const element = document.querySelector('#df-552dd584-aed4-4b18-97f3-f0da9332e9b2');\n",
              "          const dataTable =\n",
              "            await google.colab.kernel.invokeFunction('convertToInteractive',\n",
              "                                                     [key], {});\n",
              "          if (!dataTable) return;\n",
              "\n",
              "          const docLinkHtml = 'Like what you see? Visit the ' +\n",
              "            '<a target=\"_blank\" href=https://colab.research.google.com/notebooks/data_table.ipynb>data table notebook</a>'\n",
              "            + ' to learn more about interactive tables.';\n",
              "          element.innerHTML = '';\n",
              "          dataTable['output_type'] = 'display_data';\n",
              "          await google.colab.output.renderOutput(dataTable, element);\n",
              "          const docLink = document.createElement('div');\n",
              "          docLink.innerHTML = docLinkHtml;\n",
              "          element.appendChild(docLink);\n",
              "        }\n",
              "      </script>\n",
              "    </div>\n",
              "  </div>\n",
              "  "
            ]
          },
          "metadata": {},
          "execution_count": 242
        }
      ],
      "source": [
        "tables = html_soup.find_all('table')\n",
        "df = pa.read_html(str(tables))[5]\n",
        "df"
      ]
    },
    {
      "cell_type": "markdown",
      "metadata": {
        "id": "E2ndfUc1pgdl"
      },
      "source": [
        "Now, I am going to find the **datatype** of the Billainore."
      ]
    },
    {
      "cell_type": "code",
      "execution_count": null,
      "metadata": {
        "colab": {
          "base_uri": "https://localhost:8080/"
        },
        "id": "MdzHETNjKdAR",
        "outputId": "42b4d57d-7392-4bc1-c15c-1507f0e54aa7"
      },
      "outputs": [
        {
          "output_type": "stream",
          "name": "stdout",
          "text": [
            "<class 'pandas.core.frame.DataFrame'>\n",
            "RangeIndex: 10 entries, 0 to 9\n",
            "Data columns (total 6 columns):\n",
            " #   Column               Non-Null Count  Dtype \n",
            "---  ------               --------------  ----- \n",
            " 0   No.                  10 non-null     int64 \n",
            " 1   Name                 10 non-null     object\n",
            " 2   Net worth (USD)      10 non-null     object\n",
            " 3   Age                  10 non-null     int64 \n",
            " 4   Nationality          10 non-null     object\n",
            " 5   Source(s) of wealth  10 non-null     object\n",
            "dtypes: int64(2), object(4)\n",
            "memory usage: 608.0+ bytes\n"
          ]
        }
      ],
      "source": [
        "df.info()"
      ]
    },
    {
      "cell_type": "markdown",
      "metadata": {
        "id": "1cWCDU0EqKP3"
      },
      "source": [
        "# **Are there any columns or rows that are empty?**\n",
        "let's figure out wether there is any empty columns or rows."
      ]
    },
    {
      "cell_type": "code",
      "execution_count": null,
      "metadata": {
        "colab": {
          "base_uri": "https://localhost:8080/",
          "height": 363
        },
        "id": "nQu_Ff6eqDTj",
        "outputId": "7635dc41-52f5-4cce-b300-43534471754f"
      },
      "outputs": [
        {
          "output_type": "execute_result",
          "data": {
            "text/plain": [
              "     No.   Name  Net worth (USD)    Age  Nationality  Source(s) of wealth\n",
              "0  False  False            False  False        False                False\n",
              "1  False  False            False  False        False                False\n",
              "2  False  False            False  False        False                False\n",
              "3  False  False            False  False        False                False\n",
              "4  False  False            False  False        False                False\n",
              "5  False  False            False  False        False                False\n",
              "6  False  False            False  False        False                False\n",
              "7  False  False            False  False        False                False\n",
              "8  False  False            False  False        False                False\n",
              "9  False  False            False  False        False                False"
            ],
            "text/html": [
              "\n",
              "  <div id=\"df-355fd741-e19b-403f-9826-e0d0ec27470b\">\n",
              "    <div class=\"colab-df-container\">\n",
              "      <div>\n",
              "<style scoped>\n",
              "    .dataframe tbody tr th:only-of-type {\n",
              "        vertical-align: middle;\n",
              "    }\n",
              "\n",
              "    .dataframe tbody tr th {\n",
              "        vertical-align: top;\n",
              "    }\n",
              "\n",
              "    .dataframe thead th {\n",
              "        text-align: right;\n",
              "    }\n",
              "</style>\n",
              "<table border=\"1\" class=\"dataframe\">\n",
              "  <thead>\n",
              "    <tr style=\"text-align: right;\">\n",
              "      <th></th>\n",
              "      <th>No.</th>\n",
              "      <th>Name</th>\n",
              "      <th>Net worth (USD)</th>\n",
              "      <th>Age</th>\n",
              "      <th>Nationality</th>\n",
              "      <th>Source(s) of wealth</th>\n",
              "    </tr>\n",
              "  </thead>\n",
              "  <tbody>\n",
              "    <tr>\n",
              "      <th>0</th>\n",
              "      <td>False</td>\n",
              "      <td>False</td>\n",
              "      <td>False</td>\n",
              "      <td>False</td>\n",
              "      <td>False</td>\n",
              "      <td>False</td>\n",
              "    </tr>\n",
              "    <tr>\n",
              "      <th>1</th>\n",
              "      <td>False</td>\n",
              "      <td>False</td>\n",
              "      <td>False</td>\n",
              "      <td>False</td>\n",
              "      <td>False</td>\n",
              "      <td>False</td>\n",
              "    </tr>\n",
              "    <tr>\n",
              "      <th>2</th>\n",
              "      <td>False</td>\n",
              "      <td>False</td>\n",
              "      <td>False</td>\n",
              "      <td>False</td>\n",
              "      <td>False</td>\n",
              "      <td>False</td>\n",
              "    </tr>\n",
              "    <tr>\n",
              "      <th>3</th>\n",
              "      <td>False</td>\n",
              "      <td>False</td>\n",
              "      <td>False</td>\n",
              "      <td>False</td>\n",
              "      <td>False</td>\n",
              "      <td>False</td>\n",
              "    </tr>\n",
              "    <tr>\n",
              "      <th>4</th>\n",
              "      <td>False</td>\n",
              "      <td>False</td>\n",
              "      <td>False</td>\n",
              "      <td>False</td>\n",
              "      <td>False</td>\n",
              "      <td>False</td>\n",
              "    </tr>\n",
              "    <tr>\n",
              "      <th>5</th>\n",
              "      <td>False</td>\n",
              "      <td>False</td>\n",
              "      <td>False</td>\n",
              "      <td>False</td>\n",
              "      <td>False</td>\n",
              "      <td>False</td>\n",
              "    </tr>\n",
              "    <tr>\n",
              "      <th>6</th>\n",
              "      <td>False</td>\n",
              "      <td>False</td>\n",
              "      <td>False</td>\n",
              "      <td>False</td>\n",
              "      <td>False</td>\n",
              "      <td>False</td>\n",
              "    </tr>\n",
              "    <tr>\n",
              "      <th>7</th>\n",
              "      <td>False</td>\n",
              "      <td>False</td>\n",
              "      <td>False</td>\n",
              "      <td>False</td>\n",
              "      <td>False</td>\n",
              "      <td>False</td>\n",
              "    </tr>\n",
              "    <tr>\n",
              "      <th>8</th>\n",
              "      <td>False</td>\n",
              "      <td>False</td>\n",
              "      <td>False</td>\n",
              "      <td>False</td>\n",
              "      <td>False</td>\n",
              "      <td>False</td>\n",
              "    </tr>\n",
              "    <tr>\n",
              "      <th>9</th>\n",
              "      <td>False</td>\n",
              "      <td>False</td>\n",
              "      <td>False</td>\n",
              "      <td>False</td>\n",
              "      <td>False</td>\n",
              "      <td>False</td>\n",
              "    </tr>\n",
              "  </tbody>\n",
              "</table>\n",
              "</div>\n",
              "      <button class=\"colab-df-convert\" onclick=\"convertToInteractive('df-355fd741-e19b-403f-9826-e0d0ec27470b')\"\n",
              "              title=\"Convert this dataframe to an interactive table.\"\n",
              "              style=\"display:none;\">\n",
              "        \n",
              "  <svg xmlns=\"http://www.w3.org/2000/svg\" height=\"24px\"viewBox=\"0 0 24 24\"\n",
              "       width=\"24px\">\n",
              "    <path d=\"M0 0h24v24H0V0z\" fill=\"none\"/>\n",
              "    <path d=\"M18.56 5.44l.94 2.06.94-2.06 2.06-.94-2.06-.94-.94-2.06-.94 2.06-2.06.94zm-11 1L8.5 8.5l.94-2.06 2.06-.94-2.06-.94L8.5 2.5l-.94 2.06-2.06.94zm10 10l.94 2.06.94-2.06 2.06-.94-2.06-.94-.94-2.06-.94 2.06-2.06.94z\"/><path d=\"M17.41 7.96l-1.37-1.37c-.4-.4-.92-.59-1.43-.59-.52 0-1.04.2-1.43.59L10.3 9.45l-7.72 7.72c-.78.78-.78 2.05 0 2.83L4 21.41c.39.39.9.59 1.41.59.51 0 1.02-.2 1.41-.59l7.78-7.78 2.81-2.81c.8-.78.8-2.07 0-2.86zM5.41 20L4 18.59l7.72-7.72 1.47 1.35L5.41 20z\"/>\n",
              "  </svg>\n",
              "      </button>\n",
              "      \n",
              "  <style>\n",
              "    .colab-df-container {\n",
              "      display:flex;\n",
              "      flex-wrap:wrap;\n",
              "      gap: 12px;\n",
              "    }\n",
              "\n",
              "    .colab-df-convert {\n",
              "      background-color: #E8F0FE;\n",
              "      border: none;\n",
              "      border-radius: 50%;\n",
              "      cursor: pointer;\n",
              "      display: none;\n",
              "      fill: #1967D2;\n",
              "      height: 32px;\n",
              "      padding: 0 0 0 0;\n",
              "      width: 32px;\n",
              "    }\n",
              "\n",
              "    .colab-df-convert:hover {\n",
              "      background-color: #E2EBFA;\n",
              "      box-shadow: 0px 1px 2px rgba(60, 64, 67, 0.3), 0px 1px 3px 1px rgba(60, 64, 67, 0.15);\n",
              "      fill: #174EA6;\n",
              "    }\n",
              "\n",
              "    [theme=dark] .colab-df-convert {\n",
              "      background-color: #3B4455;\n",
              "      fill: #D2E3FC;\n",
              "    }\n",
              "\n",
              "    [theme=dark] .colab-df-convert:hover {\n",
              "      background-color: #434B5C;\n",
              "      box-shadow: 0px 1px 3px 1px rgba(0, 0, 0, 0.15);\n",
              "      filter: drop-shadow(0px 1px 2px rgba(0, 0, 0, 0.3));\n",
              "      fill: #FFFFFF;\n",
              "    }\n",
              "  </style>\n",
              "\n",
              "      <script>\n",
              "        const buttonEl =\n",
              "          document.querySelector('#df-355fd741-e19b-403f-9826-e0d0ec27470b button.colab-df-convert');\n",
              "        buttonEl.style.display =\n",
              "          google.colab.kernel.accessAllowed ? 'block' : 'none';\n",
              "\n",
              "        async function convertToInteractive(key) {\n",
              "          const element = document.querySelector('#df-355fd741-e19b-403f-9826-e0d0ec27470b');\n",
              "          const dataTable =\n",
              "            await google.colab.kernel.invokeFunction('convertToInteractive',\n",
              "                                                     [key], {});\n",
              "          if (!dataTable) return;\n",
              "\n",
              "          const docLinkHtml = 'Like what you see? Visit the ' +\n",
              "            '<a target=\"_blank\" href=https://colab.research.google.com/notebooks/data_table.ipynb>data table notebook</a>'\n",
              "            + ' to learn more about interactive tables.';\n",
              "          element.innerHTML = '';\n",
              "          dataTable['output_type'] = 'display_data';\n",
              "          await google.colab.output.renderOutput(dataTable, element);\n",
              "          const docLink = document.createElement('div');\n",
              "          docLink.innerHTML = docLinkHtml;\n",
              "          element.appendChild(docLink);\n",
              "        }\n",
              "      </script>\n",
              "    </div>\n",
              "  </div>\n",
              "  "
            ]
          },
          "metadata": {},
          "execution_count": 244
        }
      ],
      "source": [
        "df.isnull()"
      ]
    },
    {
      "cell_type": "markdown",
      "metadata": {
        "id": "M-1gTorTAFFz"
      },
      "source": [
        "Now, the above table looks great but I would like to clean it more by recreating the master. To do so, I would like to use the link given by the professor from where I can get idea to recreating the data. [[link](https://github.com/nurfnick/Data_Viz/blob/main/RecreatingMasters.ipynb)"
      ]
    },
    {
      "cell_type": "markdown",
      "metadata": {
        "id": "OBG_EahjN8M0"
      },
      "source": [
        "Here, in the above graph I was trying to do it by Name and net worth but somehow it didn't work but it works by age though instead of Net worth. I hope this will work."
      ]
    },
    {
      "cell_type": "markdown",
      "metadata": {
        "id": "YyeYWNjSqn82"
      },
      "source": [
        "# **Need some Data Cleaning**\n",
        "Now, The above graph need a lot of cleaning. I have a lot of cleaning to do on my rows and column here. As you can see, there is more information that will reduce the effectiveness of my visualization. I divided the data cleansing process into two parts.\n",
        "\n",
        "     a.column part(Y-axis)\n",
        "\n",
        "     b. row part(X-axis)"
      ]
    },
    {
      "cell_type": "markdown",
      "metadata": {
        "id": "CnP1OCtwsX43"
      },
      "source": [
        "columns part\n",
        "\n",
        "I need to tidy out some superfluous spaces, numerals, and notations. And the code below shows the procedure I used to clean my columns step by step. now, I am going to pull out the columns data."
      ]
    },
    {
      "cell_type": "code",
      "execution_count": null,
      "metadata": {
        "colab": {
          "base_uri": "https://localhost:8080/"
        },
        "id": "9TnYls-Is4S8",
        "outputId": "4d428170-2770-4ffc-f7a9-557627752e75"
      },
      "outputs": [
        {
          "output_type": "execute_result",
          "data": {
            "text/plain": [
              "Index(['No.', 'Name', 'Net worth (USD)', 'Age', 'Nationality',\n",
              "       'Source(s) of wealth'],\n",
              "      dtype='object')"
            ]
          },
          "metadata": {},
          "execution_count": 245
        }
      ],
      "source": [
        "df.columns"
      ]
    },
    {
      "cell_type": "markdown",
      "metadata": {
        "id": "bpqgsM6KtRH2"
      },
      "source": [
        "Rather than going back and looking at the names of my table columns, I'm using df.columns to get a list of all the columns in my data. We can always go back and look up the names of the columns. df.columns, on the other hand, simply saves us time and makes our job easier. so, here i can see  [], () etc. lets clean these special character."
      ]
    },
    {
      "cell_type": "code",
      "execution_count": null,
      "metadata": {
        "colab": {
          "base_uri": "https://localhost:8080/"
        },
        "id": "0RJfZVXItrdL",
        "outputId": "5f4c4dfa-a935-48aa-b4ed-04618d4ac191"
      },
      "outputs": [
        {
          "output_type": "execute_result",
          "data": {
            "text/plain": [
              "Index(['No', 'Name', 'Net worth USD', 'Age', 'Nationality',\n",
              "       'Sources of wealth'],\n",
              "      dtype='object')"
            ]
          },
          "metadata": {},
          "execution_count": 246
        }
      ],
      "source": [
        "cols = df.columns.map(lambda s: re.sub(r\"[(.())./d]\",\"\",s))\n",
        "cols"
      ]
    },
    {
      "cell_type": "markdown",
      "metadata": {
        "id": "j-rzXQrGuHeF"
      },
      "source": [
        "To sanitize my data, I utilized the RegEx package. It took me a bit to find out how to do.However, it appears to be working now that the brackets have been added."
      ]
    },
    {
      "cell_type": "markdown",
      "metadata": {
        "id": "ApAfm5Oiuf6Z"
      },
      "source": [
        "Now to use the above changes into my data. i have to do the following things. here you go.."
      ]
    },
    {
      "cell_type": "code",
      "execution_count": null,
      "metadata": {
        "id": "e8E1sB2nuaDO"
      },
      "outputs": [],
      "source": [
        "df.columns = df.columns.map(lambda s: re.sub(r\"[(.())./d]\",\"\",s))"
      ]
    },
    {
      "cell_type": "code",
      "execution_count": null,
      "metadata": {
        "colab": {
          "base_uri": "https://localhost:8080/"
        },
        "id": "JgohNPb5uvs6",
        "outputId": "383871e1-5202-48e4-dc02-1050e83513f6"
      },
      "outputs": [
        {
          "output_type": "execute_result",
          "data": {
            "text/plain": [
              "Index(['No', 'Name', 'Net worth USD', 'Age', 'Nationality',\n",
              "       'Sources of wealth'],\n",
              "      dtype='object')"
            ]
          },
          "metadata": {},
          "execution_count": 248
        }
      ],
      "source": [
        "df.columns"
      ]
    },
    {
      "cell_type": "code",
      "execution_count": null,
      "metadata": {
        "colab": {
          "base_uri": "https://localhost:8080/"
        },
        "id": "1oI8gg7a2RuC",
        "outputId": "b73f7b30-8ee3-49cd-f7ac-2bfd551e9458"
      },
      "outputs": [
        {
          "output_type": "execute_result",
          "data": {
            "text/plain": [
              "Index(['No', 'Name', 'NetworthUSD', 'Age', 'Nationality', 'Sourcesofwealth'], dtype='object')"
            ]
          },
          "metadata": {},
          "execution_count": 249
        }
      ],
      "source": [
        "cols1 = df.columns.map(lambda s: re.sub(r\" \",\"\",s))\n",
        "cols1"
      ]
    },
    {
      "cell_type": "code",
      "execution_count": null,
      "metadata": {
        "id": "bzCQfwtD2Zwf"
      },
      "outputs": [],
      "source": [
        "df.columns = df.columns.map(lambda s: re.sub(r\" \",\"\",s))"
      ]
    },
    {
      "cell_type": "code",
      "execution_count": null,
      "metadata": {
        "colab": {
          "base_uri": "https://localhost:8080/"
        },
        "id": "krGEUmj22cmz",
        "outputId": "33487f41-5ca8-47f9-ef70-db67a232d5e0"
      },
      "outputs": [
        {
          "output_type": "execute_result",
          "data": {
            "text/plain": [
              "Index(['No', 'Name', 'NetworthUSD', 'Age', 'Nationality', 'Sourcesofwealth'], dtype='object')"
            ]
          },
          "metadata": {},
          "execution_count": 251
        }
      ],
      "source": [
        "df.columns"
      ]
    },
    {
      "cell_type": "markdown",
      "metadata": {
        "id": "LZbmQdPb2h47"
      },
      "source": [
        "Now, I am moving towards cleaing the X_lables"
      ]
    },
    {
      "cell_type": "code",
      "execution_count": null,
      "metadata": {
        "id": "l4pdK2qW7Don"
      },
      "outputs": [],
      "source": [
        "df_sorted= df.sort_values('NetworthUSD')"
      ]
    },
    {
      "cell_type": "code",
      "execution_count": null,
      "metadata": {
        "colab": {
          "base_uri": "https://localhost:8080/"
        },
        "id": "-ySvRmlT_Vt3",
        "outputId": "6da547e3-75fb-4d80-992f-d301b3ac4053"
      },
      "outputs": [
        {
          "output_type": "execute_result",
          "data": {
            "text/plain": [
              "Index(['No', 'Name', 'Networth', 'Age', 'Nationality', 'Sourcesofwealth'], dtype='object')"
            ]
          },
          "metadata": {},
          "execution_count": 253
        }
      ],
      "source": [
        "df1=df.rename(columns={'NetworthUSD': 'Networth'}, inplace=True)\n",
        "df.columns"
      ]
    },
    {
      "cell_type": "code",
      "source": [
        "df_sorted= df.sort_values('Networth')"
      ],
      "metadata": {
        "id": "7meke2KIBjRL"
      },
      "execution_count": null,
      "outputs": []
    },
    {
      "cell_type": "code",
      "source": [
        "df_sorted"
      ],
      "metadata": {
        "colab": {
          "base_uri": "https://localhost:8080/",
          "height": 363
        },
        "id": "RKAJkiIUCXRq",
        "outputId": "2d8a236d-fe99-45d8-a0b1-4dd62c5cac68"
      },
      "execution_count": null,
      "outputs": [
        {
          "output_type": "execute_result",
          "data": {
            "text/plain": [
              "   No               Name       Networth  Age    Nationality  \\\n",
              "0   1         Jeff Bezos   $131 billion   55  United States   \n",
              "9  10         Larry Page  $50.8 billion   45  United States   \n",
              "8   9  Michael Bloomberg  $55.5 billion   77  United States   \n",
              "7   8    Mark Zuckerberg  $62.3 billion   34  United States   \n",
              "6   7      Larry Ellison  $62.5 billion   74  United States   \n",
              "5   6     Amancio Ortega  $62.7 billion   82          Spain   \n",
              "4   5        Carlos Slim    $64 billion   79         Mexico   \n",
              "3   4    Bernard Arnault    $76 billion   70         France   \n",
              "2   3     Warren Buffett  $82.5 billion   88  United States   \n",
              "1   2         Bill Gates  $96.5 billion   63  United States   \n",
              "\n",
              "              Sourcesofwealth  \n",
              "0                      Amazon  \n",
              "9               Alphabet Inc.  \n",
              "8              Bloomberg L.P.  \n",
              "7              Facebook, Inc.  \n",
              "6          Oracle Corporation  \n",
              "5               Inditex, Zara  \n",
              "4  América Móvil, Grupo Carso  \n",
              "3                        LVMH  \n",
              "2          Berkshire Hathaway  \n",
              "1                   Microsoft  "
            ],
            "text/html": [
              "\n",
              "  <div id=\"df-6d828099-b19e-4be0-9f68-389b11ed37ea\">\n",
              "    <div class=\"colab-df-container\">\n",
              "      <div>\n",
              "<style scoped>\n",
              "    .dataframe tbody tr th:only-of-type {\n",
              "        vertical-align: middle;\n",
              "    }\n",
              "\n",
              "    .dataframe tbody tr th {\n",
              "        vertical-align: top;\n",
              "    }\n",
              "\n",
              "    .dataframe thead th {\n",
              "        text-align: right;\n",
              "    }\n",
              "</style>\n",
              "<table border=\"1\" class=\"dataframe\">\n",
              "  <thead>\n",
              "    <tr style=\"text-align: right;\">\n",
              "      <th></th>\n",
              "      <th>No</th>\n",
              "      <th>Name</th>\n",
              "      <th>Networth</th>\n",
              "      <th>Age</th>\n",
              "      <th>Nationality</th>\n",
              "      <th>Sourcesofwealth</th>\n",
              "    </tr>\n",
              "  </thead>\n",
              "  <tbody>\n",
              "    <tr>\n",
              "      <th>0</th>\n",
              "      <td>1</td>\n",
              "      <td>Jeff Bezos</td>\n",
              "      <td>$131 billion</td>\n",
              "      <td>55</td>\n",
              "      <td>United States</td>\n",
              "      <td>Amazon</td>\n",
              "    </tr>\n",
              "    <tr>\n",
              "      <th>9</th>\n",
              "      <td>10</td>\n",
              "      <td>Larry Page</td>\n",
              "      <td>$50.8 billion</td>\n",
              "      <td>45</td>\n",
              "      <td>United States</td>\n",
              "      <td>Alphabet Inc.</td>\n",
              "    </tr>\n",
              "    <tr>\n",
              "      <th>8</th>\n",
              "      <td>9</td>\n",
              "      <td>Michael Bloomberg</td>\n",
              "      <td>$55.5 billion</td>\n",
              "      <td>77</td>\n",
              "      <td>United States</td>\n",
              "      <td>Bloomberg L.P.</td>\n",
              "    </tr>\n",
              "    <tr>\n",
              "      <th>7</th>\n",
              "      <td>8</td>\n",
              "      <td>Mark Zuckerberg</td>\n",
              "      <td>$62.3 billion</td>\n",
              "      <td>34</td>\n",
              "      <td>United States</td>\n",
              "      <td>Facebook, Inc.</td>\n",
              "    </tr>\n",
              "    <tr>\n",
              "      <th>6</th>\n",
              "      <td>7</td>\n",
              "      <td>Larry Ellison</td>\n",
              "      <td>$62.5 billion</td>\n",
              "      <td>74</td>\n",
              "      <td>United States</td>\n",
              "      <td>Oracle Corporation</td>\n",
              "    </tr>\n",
              "    <tr>\n",
              "      <th>5</th>\n",
              "      <td>6</td>\n",
              "      <td>Amancio Ortega</td>\n",
              "      <td>$62.7 billion</td>\n",
              "      <td>82</td>\n",
              "      <td>Spain</td>\n",
              "      <td>Inditex, Zara</td>\n",
              "    </tr>\n",
              "    <tr>\n",
              "      <th>4</th>\n",
              "      <td>5</td>\n",
              "      <td>Carlos Slim</td>\n",
              "      <td>$64 billion</td>\n",
              "      <td>79</td>\n",
              "      <td>Mexico</td>\n",
              "      <td>América Móvil, Grupo Carso</td>\n",
              "    </tr>\n",
              "    <tr>\n",
              "      <th>3</th>\n",
              "      <td>4</td>\n",
              "      <td>Bernard Arnault</td>\n",
              "      <td>$76 billion</td>\n",
              "      <td>70</td>\n",
              "      <td>France</td>\n",
              "      <td>LVMH</td>\n",
              "    </tr>\n",
              "    <tr>\n",
              "      <th>2</th>\n",
              "      <td>3</td>\n",
              "      <td>Warren Buffett</td>\n",
              "      <td>$82.5 billion</td>\n",
              "      <td>88</td>\n",
              "      <td>United States</td>\n",
              "      <td>Berkshire Hathaway</td>\n",
              "    </tr>\n",
              "    <tr>\n",
              "      <th>1</th>\n",
              "      <td>2</td>\n",
              "      <td>Bill Gates</td>\n",
              "      <td>$96.5 billion</td>\n",
              "      <td>63</td>\n",
              "      <td>United States</td>\n",
              "      <td>Microsoft</td>\n",
              "    </tr>\n",
              "  </tbody>\n",
              "</table>\n",
              "</div>\n",
              "      <button class=\"colab-df-convert\" onclick=\"convertToInteractive('df-6d828099-b19e-4be0-9f68-389b11ed37ea')\"\n",
              "              title=\"Convert this dataframe to an interactive table.\"\n",
              "              style=\"display:none;\">\n",
              "        \n",
              "  <svg xmlns=\"http://www.w3.org/2000/svg\" height=\"24px\"viewBox=\"0 0 24 24\"\n",
              "       width=\"24px\">\n",
              "    <path d=\"M0 0h24v24H0V0z\" fill=\"none\"/>\n",
              "    <path d=\"M18.56 5.44l.94 2.06.94-2.06 2.06-.94-2.06-.94-.94-2.06-.94 2.06-2.06.94zm-11 1L8.5 8.5l.94-2.06 2.06-.94-2.06-.94L8.5 2.5l-.94 2.06-2.06.94zm10 10l.94 2.06.94-2.06 2.06-.94-2.06-.94-.94-2.06-.94 2.06-2.06.94z\"/><path d=\"M17.41 7.96l-1.37-1.37c-.4-.4-.92-.59-1.43-.59-.52 0-1.04.2-1.43.59L10.3 9.45l-7.72 7.72c-.78.78-.78 2.05 0 2.83L4 21.41c.39.39.9.59 1.41.59.51 0 1.02-.2 1.41-.59l7.78-7.78 2.81-2.81c.8-.78.8-2.07 0-2.86zM5.41 20L4 18.59l7.72-7.72 1.47 1.35L5.41 20z\"/>\n",
              "  </svg>\n",
              "      </button>\n",
              "      \n",
              "  <style>\n",
              "    .colab-df-container {\n",
              "      display:flex;\n",
              "      flex-wrap:wrap;\n",
              "      gap: 12px;\n",
              "    }\n",
              "\n",
              "    .colab-df-convert {\n",
              "      background-color: #E8F0FE;\n",
              "      border: none;\n",
              "      border-radius: 50%;\n",
              "      cursor: pointer;\n",
              "      display: none;\n",
              "      fill: #1967D2;\n",
              "      height: 32px;\n",
              "      padding: 0 0 0 0;\n",
              "      width: 32px;\n",
              "    }\n",
              "\n",
              "    .colab-df-convert:hover {\n",
              "      background-color: #E2EBFA;\n",
              "      box-shadow: 0px 1px 2px rgba(60, 64, 67, 0.3), 0px 1px 3px 1px rgba(60, 64, 67, 0.15);\n",
              "      fill: #174EA6;\n",
              "    }\n",
              "\n",
              "    [theme=dark] .colab-df-convert {\n",
              "      background-color: #3B4455;\n",
              "      fill: #D2E3FC;\n",
              "    }\n",
              "\n",
              "    [theme=dark] .colab-df-convert:hover {\n",
              "      background-color: #434B5C;\n",
              "      box-shadow: 0px 1px 3px 1px rgba(0, 0, 0, 0.15);\n",
              "      filter: drop-shadow(0px 1px 2px rgba(0, 0, 0, 0.3));\n",
              "      fill: #FFFFFF;\n",
              "    }\n",
              "  </style>\n",
              "\n",
              "      <script>\n",
              "        const buttonEl =\n",
              "          document.querySelector('#df-6d828099-b19e-4be0-9f68-389b11ed37ea button.colab-df-convert');\n",
              "        buttonEl.style.display =\n",
              "          google.colab.kernel.accessAllowed ? 'block' : 'none';\n",
              "\n",
              "        async function convertToInteractive(key) {\n",
              "          const element = document.querySelector('#df-6d828099-b19e-4be0-9f68-389b11ed37ea');\n",
              "          const dataTable =\n",
              "            await google.colab.kernel.invokeFunction('convertToInteractive',\n",
              "                                                     [key], {});\n",
              "          if (!dataTable) return;\n",
              "\n",
              "          const docLinkHtml = 'Like what you see? Visit the ' +\n",
              "            '<a target=\"_blank\" href=https://colab.research.google.com/notebooks/data_table.ipynb>data table notebook</a>'\n",
              "            + ' to learn more about interactive tables.';\n",
              "          element.innerHTML = '';\n",
              "          dataTable['output_type'] = 'display_data';\n",
              "          await google.colab.output.renderOutput(dataTable, element);\n",
              "          const docLink = document.createElement('div');\n",
              "          docLink.innerHTML = docLinkHtml;\n",
              "          element.appendChild(docLink);\n",
              "        }\n",
              "      </script>\n",
              "    </div>\n",
              "  </div>\n",
              "  "
            ]
          },
          "metadata": {},
          "execution_count": 255
        }
      ]
    },
    {
      "cell_type": "code",
      "source": [
        "df['Networth'] = df['Networth'].str.strip('B') #Removing B\n",
        "df['Networth'] = df['Networth'].str.strip('$') #Removing $\n",
        "df['Networth'] #display variable in output"
      ],
      "metadata": {
        "colab": {
          "base_uri": "https://localhost:8080/"
        },
        "id": "A9JcE9zxpxuZ",
        "outputId": "4f3e7225-ce4c-4cee-83d7-ac9dbe62279a"
      },
      "execution_count": null,
      "outputs": [
        {
          "output_type": "execute_result",
          "data": {
            "text/plain": [
              "0     131 billion\n",
              "1    96.5 billion\n",
              "2    82.5 billion\n",
              "3      76 billion\n",
              "4      64 billion\n",
              "5    62.7 billion\n",
              "6    62.5 billion\n",
              "7    62.3 billion\n",
              "8    55.5 billion\n",
              "9    50.8 billion\n",
              "Name: Networth, dtype: object"
            ]
          },
          "metadata": {},
          "execution_count": 256
        }
      ]
    },
    {
      "cell_type": "code",
      "execution_count": null,
      "metadata": {
        "id": "YBtxx2u1BZzQ"
      },
      "outputs": [],
      "source": [
        "df = df.dropna()"
      ]
    },
    {
      "cell_type": "code",
      "execution_count": null,
      "metadata": {
        "id": "q4Wt5UYyDgEu",
        "colab": {
          "base_uri": "https://localhost:8080/"
        },
        "outputId": "929a1dbb-88b2-4d26-da4b-f2e611916f65"
      },
      "outputs": [
        {
          "output_type": "stream",
          "name": "stdout",
          "text": [
            "No                 0\n",
            "Name               0\n",
            "Networth           0\n",
            "Age                0\n",
            "Nationality        0\n",
            "Sourcesofwealth    0\n",
            "dtype: int64\n"
          ]
        }
      ],
      "source": [
        "print(df.isnull().sum())"
      ]
    },
    {
      "cell_type": "code",
      "source": [
        "df['Networth'] = df['Networth'].str.replace('billion','').astype(np.float64)\n",
        "df.dtypes"
      ],
      "metadata": {
        "colab": {
          "base_uri": "https://localhost:8080/"
        },
        "id": "IGIkrf-hBTYQ",
        "outputId": "96cb2a95-9c07-49a4-9cf5-29c117ac286b"
      },
      "execution_count": null,
      "outputs": [
        {
          "output_type": "execute_result",
          "data": {
            "text/plain": [
              "No                   int64\n",
              "Name                object\n",
              "Networth           float64\n",
              "Age                  int64\n",
              "Nationality         object\n",
              "Sourcesofwealth     object\n",
              "dtype: object"
            ]
          },
          "metadata": {},
          "execution_count": 259
        }
      ]
    },
    {
      "cell_type": "code",
      "source": [
        "plt.rcParams[\"figure.figsize\"] = [15, 8]\n",
        "plt.rcParams[\"figure.autolayout\"] = True\n",
        "sns.set_style('whitegrid')\n",
        "ax = sns.barplot(data = df, y = 'Name', x= \"Networth\", ci= None, linewidth = 1)\n",
        "ax.set_title(\"World's Top 10 Billionaires, 2000-2019\",size = float(25.0), fontweight = 'bold',fontname=\"Dejavu serif\", color= 'black')\n",
        "ax.set_ylabel(ylabel=None, size = float(15.0), fontweight = 'bold',fontname=\"Dejavu sans\" , color= 'midnightblue')\n",
        "ax.set_xlabel(xlabel=None, size = float(15.0), fontweight = 'bold',fontname=\"Dejavu sans\" , color= 'midnightblue')"
      ],
      "metadata": {
        "colab": {
          "base_uri": "https://localhost:8080/",
          "height": 602
        },
        "id": "rd1yu58cz_aj",
        "outputId": "ca346602-daf2-4078-cad2-e1857a083768"
      },
      "execution_count": 358,
      "outputs": [
        {
          "output_type": "execute_result",
          "data": {
            "text/plain": [
              "Text(0.5, 0, '')"
            ]
          },
          "metadata": {},
          "execution_count": 358
        },
        {
          "output_type": "display_data",
          "data": {
            "text/plain": [
              "<Figure size 1080x576 with 1 Axes>"
            ],
            "image/png": "[encoded data removed]"
          },
          "metadata": {}
        }
      ]
    },
    {
      "cell_type": "markdown",
      "metadata": {
        "id": "q17buT8s3BBt"
      },
      "source": [
        "Now, data is ready for visualization."
      ]
    }
  ],
  "metadata": {
    "colab": {
      "name": "Copy of Recreating the Master.ipynb",
      "provenance": [],
      "authorship_tag": "ABX9TyO3EuYRmW8i5EjrPG2Hk38t",
      "include_colab_link": true
    },
    "kernelspec": {
      "display_name": "Python 3",
      "name": "python3"
    },
    "language_info": {
      "name": "python"
    }
  },
  "nbformat": 4,
  "nbformat_minor": 0
}