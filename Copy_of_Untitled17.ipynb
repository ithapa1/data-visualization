{
  "nbformat": 4,
  "nbformat_minor": 0,
  "metadata": {
    "colab": {
      "name": "Copy of Untitled17.ipynb",
      "provenance": [],
      "authorship_tag": "ABX9TyOL0aILII8D9Hyk55KXT/zK",
      "include_colab_link": true
    },
    "kernelspec": {
      "name": "python3",
      "display_name": "Python 3"
    },
    "language_info": {
      "name": "python"
    }
  },
  "cells": [
    {
      "cell_type": "markdown",
      "metadata": {
        "id": "view-in-github",
        "colab_type": "text"
      },
      "source": [
        "<a href=\"https://colab.research.google.com/github/ithapa1/data-visualization/blob/main/Copy_of_Untitled17.ipynb\" target=\"_parent\"><img src=\"https://colab.research.google.com/assets/colab-badge.svg\" alt=\"Open In Colab\"/></a>"
      ]
    },
    {
      "cell_type": "markdown",
      "source": [
        "## quiz 22\n",
        "# **Graphical Integrity **"
      ],
      "metadata": {
        "id": "UPZHdAuzSmXu"
      }
    },
    {
      "cell_type": "markdown",
      "source": [
        "[The Laboratory of History Museum](https://symposium.foragerone.com/okrd22/presentations/37724)\n",
        "\n",
        "The Central State Historical Society wants their museum to be both a conservator of former generations' relics and an active instructional institution. To improve the teaching component, digital museums must be viewed as equal to traditional museums. The goal of this study is to evaluate how a virtual tour of the Laboratory of History Museum stimulates public interest in the University of Central Oklahoma's history. The virtual museum's purpose is not to compete with or replace traditional museum visits; rather, it is to enrich, complement, and supplement the museum experience by providing a level of personalisation, interactivity, and content richness that is impossible to achieve in the real world.\n"
      ],
      "metadata": {
        "id": "IzJZFLdEY9Tw"
      }
    },
    {
      "cell_type": "markdown",
      "source": [
        "[Anti-cancer Effects of Dandelion’s Extract](https://symposium.foragerone.com/okrd22/presentations/37707)\n",
        "\n",
        "Because of their anti-cancer properties, some plant-derived chemicals have medicinal use. One of these could be the dandelion (Taraxacum officinale). Because of its anti-inflammatory and anti-carcinogenic characteristics, dandelions are widely available, grow all over the world, and have been utilized in Middle Eastern and Chinese medicine for ages. The mechanism of its anti-cancer action is currently unknown. The anti-cancer benefits of Dandelion on cervical cancer cells known as HeLa cells were studied in this study. The anti-cancer action of dandelion extract is thought to work by interrupting essential biological processes in tumor cells, resulting in growth inhibition, cell death, and a reduction in tumor invasiveness."
      ],
      "metadata": {
        "id": "9aWzlS5Xarq_"
      }
    },
    {
      "cell_type": "markdown",
      "source": [
        "[Manufacturers of Computer Peripherals](https://symposium.foragerone.com/okrd22/presentations/37216)\n",
        "\n",
        "Many of the top computer peripheral manufacturers advertise their products on social media and by sponsoring popular youtubers. Social media is the primary channel via which they communicate with their target market. Instagram is the primary social media platform used by these businesses. They have a broad purpose in mind: to promote new items and raise consumer awareness of what they have to offer. The primary purpose of this investigation is to determine which tactics these computer peripheral makers employ in order to effectively reach their target market in the manner in which they desire. Corsair, Logitech, and Razer, among the top Instagram accounts I've seen, all appear to adopt a similar strategy to promoting their products."
      ],
      "metadata": {
        "id": "ogVMFjzGbefM"
      }
    }
  ]
}