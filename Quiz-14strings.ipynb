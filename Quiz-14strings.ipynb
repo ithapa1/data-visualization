{
  "nbformat": 4,
  "nbformat_minor": 0,
  "metadata": {
    "colab": {
      "name": "Untitled13.ipynb",
      "provenance": [],
      "authorship_tag": "ABX9TyN6sJPVXCdETD+s9s71N1CG",
      "include_colab_link": true
    },
    "kernelspec": {
      "name": "python3",
      "display_name": "Python 3"
    },
    "language_info": {
      "name": "python"
    }
  },
  "cells": [
    {
      "cell_type": "markdown",
      "metadata": {
        "id": "view-in-github",
        "colab_type": "text"
      },
      "source": [
        "<a href=\"https://colab.research.google.com/github/ithapa1/data-visualization/blob/main/Quiz-14strings.ipynb\" target=\"_parent\"><img src=\"https://colab.research.google.com/assets/colab-badge.svg\" alt=\"Open In Colab\"/></a>"
      ]
    },
    {
      "cell_type": "markdown",
      "source": [
        "# **Quiz-14 Strings**"
      ],
      "metadata": {
        "id": "XILPhchN6L0l"
      }
    },
    {
      "cell_type": "code",
      "source": [
        "H = 'Happy Birthday to you ' +\" \""
      ],
      "metadata": {
        "id": "wMkr3Vlo-1Xb"
      },
      "execution_count": 2,
      "outputs": []
    },
    {
      "cell_type": "code",
      "source": [
        "B = 'Happy Birthday to You ' +\" \""
      ],
      "metadata": {
        "id": "ZoONe6CDBsuW"
      },
      "execution_count": 3,
      "outputs": []
    },
    {
      "cell_type": "code",
      "source": [
        "T = 'Happy birthday Dear Indra Thapa ' +\" \""
      ],
      "metadata": {
        "id": "hLhydFXsBwxm"
      },
      "execution_count": 4,
      "outputs": []
    },
    {
      "cell_type": "code",
      "source": [
        "Y = 'Happy Birthday to you....' +\" \""
      ],
      "metadata": {
        "id": "VjL4umQcBz_5"
      },
      "execution_count": 13,
      "outputs": []
    },
    {
      "cell_type": "code",
      "source": [
        "print(H)\n",
        "print(B)\n",
        "print(T)\n",
        "print(Y)"
      ],
      "metadata": {
        "colab": {
          "base_uri": "https://localhost:8080/"
        },
        "id": "q6G9GvlHD8dw",
        "outputId": "58a6a8d3-40ac-4914-9afd-cbd8aa6e2277"
      },
      "execution_count": 27,
      "outputs": [
        {
          "output_type": "stream",
          "name": "stdout",
          "text": [
            "Happy Birthday to you\n",
            "Happy Birthday to You\n",
            "Happy birthday Dear Indra Thapa\n",
            "Happy Birthday to you.... \n"
          ]
        }
      ]
    }
  ]
}