{
  "nbformat": 4,
  "nbformat_minor": 0,
  "metadata": {
    "colab": {
      "name": "Projectproposal.ipynb",
      "provenance": [],
      "collapsed_sections": [],
      "authorship_tag": "ABX9TyOOitIplYAXbXN33RcLRBG9",
      "include_colab_link": true
    },
    "kernelspec": {
      "name": "python3",
      "display_name": "Python 3"
    },
    "language_info": {
      "name": "python"
    }
  },
  "cells": [
    {
      "cell_type": "markdown",
      "metadata": {
        "id": "view-in-github",
        "colab_type": "text"
      },
      "source": [
        "<a href=\"https://colab.research.google.com/github/ithapa1/data-visualization/blob/main/Projectproposal.ipynb\" target=\"_parent\"><img src=\"https://colab.research.google.com/assets/colab-badge.svg\" alt=\"Open In Colab\"/></a>"
      ]
    },
    {
      "cell_type": "markdown",
      "source": [
        "#**BEST CRICKETER OF ALL THE TIME**\n",
        "Indra Thapa\n",
        "\n",
        "East Central University\n",
        "\n",
        "spring 2022\n",
        "\n",
        "CPMSA 4213\n",
        "\n",
        "Professor: Dr. Nicholas Jacob\n",
        "**Abstract**:  The following link is the T20 World Cup and the list of Best Cricketer among the participated country of all the time.[link](https://en.wikipedia.org/wiki/Wisden_Leading_Cricketer_in_the_World). "
      ],
      "metadata": {
        "id": "PRoT4_jVVLXL"
      }
    },
    {
      "cell_type": "markdown",
      "source": [
        "Introduction: As we all know that the important of sports in the world, which connects all the countries as one and maintain a social harmoney to each other. Similarly, it helps to maintain a respect of the people and good health to everyone and inspires a healthy lifestyle. there is no doubt that the sport also helps to grow up the life of the best player and helps to maintain a happy and properous life.Besides that, best team and best player can be renown by all over the world. I took this topic to get a good visualization of the best player all time over the world (i.e. participated country).\n",
        "\n",
        "Here, I am going to take a data to get a visualization of the Highest paid cricketer in the world. So, I would like to show the [link](https://sportsbrowser.net/greatest-cricketers-of-all-time/)"
      ],
      "metadata": {
        "id": "RX_Al6heRa37"
      }
    },
    {
      "cell_type": "markdown",
      "source": [
        "![T20 Cricket world Cup](https://external-content.duckduckgo.com/iu/?u=https%3A%2F%2Fmiro.medium.com%2Fmax%2F1200%2F1*EyntW6SwEr-voghuOa4hHQ.png&f=1&nofb=1)"
      ],
      "metadata": {
        "id": "6sleIDN6lZ3e"
      }
    },
    {
      "cell_type": "markdown",
      "source": [
        "![](https://www.statisticstimes.com/sports/image/cricket-t20-world-cup-winners.jpg)"
      ],
      "metadata": {
        "id": "FRhOR-gSm18W"
      }
    },
    {
      "cell_type": "markdown",
      "source": [
        "Now, the above two different graph shows the best player and the Winner Countries' Name. (https://external-content.duckduckgo.com/iu/?)\n",
        "\n",
        "(https://www.statisticstimes.com/sports)\n",
        "these two graph shows the world's cricket match till 2016.\n",
        "besides that, it shows the best 20 batsman all over the country including most winning country etc.\n",
        "\n",
        "It expressly contains all of the information. Both of them are plotted using a bar-graph, pie-chart etc,  as we can see. Color, symbol, and label placement are all done correctly."
      ],
      "metadata": {
        "id": "IdfFpXzjcuFp"
      }
    },
    {
      "cell_type": "markdown",
      "source": [
        "So, why am I interested in these two, you might wonder? What's the difference between them?\n",
        "\n",
        "Although there isn't much going on, every the tiniest detail matters. The information is represented in a different way. One of the graphs displays Team Name with Countries' National Flag. similarly, it utilizes figures to depict the same data. Isn't it amazing how the same information can be represented in so many different ways. Remember that even the tiniest detail matters and has significance. Someone looking at the statistics for the first time can tell who the best players in the graph are: V. Kohli, E. Robert, and MS Dhoni etc."
      ],
      "metadata": {
        "id": "jaiKqn6kf8qV"
      }
    }
  ]
}