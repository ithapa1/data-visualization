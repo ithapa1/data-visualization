import pandas as pd
import numpy as np
import seaborn as sns
import matplotlib.pyplot as plt 
# Enables Jupyter to display graphs
%matplotlib inline 
exchange_rates = pd.read_csv('')
